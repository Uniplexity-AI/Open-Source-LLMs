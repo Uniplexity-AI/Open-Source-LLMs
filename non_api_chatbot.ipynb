{
  "nbformat": 4,
  "nbformat_minor": 0,
  "metadata": {
    "colab": {
      "provenance": [],
      "gpuType": "T4",
      "toc_visible": true
    },
    "kernelspec": {
      "name": "python3",
      "display_name": "Python 3"
    },
    "language_info": {
      "name": "python"
    },
    "accelerator": "GPU",
    "widgets": {
      "application/vnd.jupyter.widget-state+json": {
        "b3c96aad71ac4ae9ba0729a3d6efd1f5": {
          "model_module": "@jupyter-widgets/controls",
          "model_name": "HBoxModel",
          "model_module_version": "1.5.0",
          "state": {
            "_dom_classes": [],
            "_model_module": "@jupyter-widgets/controls",
            "_model_module_version": "1.5.0",
            "_model_name": "HBoxModel",
            "_view_count": null,
            "_view_module": "@jupyter-widgets/controls",
            "_view_module_version": "1.5.0",
            "_view_name": "HBoxView",
            "box_style": "",
            "children": [
              "IPY_MODEL_450b532bf29d4bdfb8dfe1eae71b02bc",
              "IPY_MODEL_db08068b27a6409585d4eb6da9c8632c",
              "IPY_MODEL_cc014207f59846d48efa9bc6ca385ef4"
            ],
            "layout": "IPY_MODEL_513dd75441a24c3da526b5033bfe6903"
          }
        },
        "450b532bf29d4bdfb8dfe1eae71b02bc": {
          "model_module": "@jupyter-widgets/controls",
          "model_name": "HTMLModel",
          "model_module_version": "1.5.0",
          "state": {
            "_dom_classes": [],
            "_model_module": "@jupyter-widgets/controls",
            "_model_module_version": "1.5.0",
            "_model_name": "HTMLModel",
            "_view_count": null,
            "_view_module": "@jupyter-widgets/controls",
            "_view_module_version": "1.5.0",
            "_view_name": "HTMLView",
            "description": "",
            "description_tooltip": null,
            "layout": "IPY_MODEL_12483cd4b7e147cda4fc6a6964c8084a",
            "placeholder": "​",
            "style": "IPY_MODEL_383d2f25e5e4426e8c6d6db4f2725759",
            "value": "tokenizer_config.json: 100%"
          }
        },
        "db08068b27a6409585d4eb6da9c8632c": {
          "model_module": "@jupyter-widgets/controls",
          "model_name": "FloatProgressModel",
          "model_module_version": "1.5.0",
          "state": {
            "_dom_classes": [],
            "_model_module": "@jupyter-widgets/controls",
            "_model_module_version": "1.5.0",
            "_model_name": "FloatProgressModel",
            "_view_count": null,
            "_view_module": "@jupyter-widgets/controls",
            "_view_module_version": "1.5.0",
            "_view_name": "ProgressView",
            "bar_style": "success",
            "description": "",
            "description_tooltip": null,
            "layout": "IPY_MODEL_8c5d6af4848346afb4194dc12ae8135a",
            "max": 237,
            "min": 0,
            "orientation": "horizontal",
            "style": "IPY_MODEL_1fc9907fa8644802a69998ad1b6a74d6",
            "value": 237
          }
        },
        "cc014207f59846d48efa9bc6ca385ef4": {
          "model_module": "@jupyter-widgets/controls",
          "model_name": "HTMLModel",
          "model_module_version": "1.5.0",
          "state": {
            "_dom_classes": [],
            "_model_module": "@jupyter-widgets/controls",
            "_model_module_version": "1.5.0",
            "_model_name": "HTMLModel",
            "_view_count": null,
            "_view_module": "@jupyter-widgets/controls",
            "_view_module_version": "1.5.0",
            "_view_name": "HTMLView",
            "description": "",
            "description_tooltip": null,
            "layout": "IPY_MODEL_cf8dd8298dbe401dace2205f927016ea",
            "placeholder": "​",
            "style": "IPY_MODEL_133fa236e4c34c79918cc346ee1b957f",
            "value": " 237/237 [00:00&lt;00:00, 15.3kB/s]"
          }
        },
        "513dd75441a24c3da526b5033bfe6903": {
          "model_module": "@jupyter-widgets/base",
          "model_name": "LayoutModel",
          "model_module_version": "1.2.0",
          "state": {
            "_model_module": "@jupyter-widgets/base",
            "_model_module_version": "1.2.0",
            "_model_name": "LayoutModel",
            "_view_count": null,
            "_view_module": "@jupyter-widgets/base",
            "_view_module_version": "1.2.0",
            "_view_name": "LayoutView",
            "align_content": null,
            "align_items": null,
            "align_self": null,
            "border": null,
            "bottom": null,
            "display": null,
            "flex": null,
            "flex_flow": null,
            "grid_area": null,
            "grid_auto_columns": null,
            "grid_auto_flow": null,
            "grid_auto_rows": null,
            "grid_column": null,
            "grid_gap": null,
            "grid_row": null,
            "grid_template_areas": null,
            "grid_template_columns": null,
            "grid_template_rows": null,
            "height": null,
            "justify_content": null,
            "justify_items": null,
            "left": null,
            "margin": null,
            "max_height": null,
            "max_width": null,
            "min_height": null,
            "min_width": null,
            "object_fit": null,
            "object_position": null,
            "order": null,
            "overflow": null,
            "overflow_x": null,
            "overflow_y": null,
            "padding": null,
            "right": null,
            "top": null,
            "visibility": null,
            "width": null
          }
        },
        "12483cd4b7e147cda4fc6a6964c8084a": {
          "model_module": "@jupyter-widgets/base",
          "model_name": "LayoutModel",
          "model_module_version": "1.2.0",
          "state": {
            "_model_module": "@jupyter-widgets/base",
            "_model_module_version": "1.2.0",
            "_model_name": "LayoutModel",
            "_view_count": null,
            "_view_module": "@jupyter-widgets/base",
            "_view_module_version": "1.2.0",
            "_view_name": "LayoutView",
            "align_content": null,
            "align_items": null,
            "align_self": null,
            "border": null,
            "bottom": null,
            "display": null,
            "flex": null,
            "flex_flow": null,
            "grid_area": null,
            "grid_auto_columns": null,
            "grid_auto_flow": null,
            "grid_auto_rows": null,
            "grid_column": null,
            "grid_gap": null,
            "grid_row": null,
            "grid_template_areas": null,
            "grid_template_columns": null,
            "grid_template_rows": null,
            "height": null,
            "justify_content": null,
            "justify_items": null,
            "left": null,
            "margin": null,
            "max_height": null,
            "max_width": null,
            "min_height": null,
            "min_width": null,
            "object_fit": null,
            "object_position": null,
            "order": null,
            "overflow": null,
            "overflow_x": null,
            "overflow_y": null,
            "padding": null,
            "right": null,
            "top": null,
            "visibility": null,
            "width": null
          }
        },
        "383d2f25e5e4426e8c6d6db4f2725759": {
          "model_module": "@jupyter-widgets/controls",
          "model_name": "DescriptionStyleModel",
          "model_module_version": "1.5.0",
          "state": {
            "_model_module": "@jupyter-widgets/controls",
            "_model_module_version": "1.5.0",
            "_model_name": "DescriptionStyleModel",
            "_view_count": null,
            "_view_module": "@jupyter-widgets/base",
            "_view_module_version": "1.2.0",
            "_view_name": "StyleView",
            "description_width": ""
          }
        },
        "8c5d6af4848346afb4194dc12ae8135a": {
          "model_module": "@jupyter-widgets/base",
          "model_name": "LayoutModel",
          "model_module_version": "1.2.0",
          "state": {
            "_model_module": "@jupyter-widgets/base",
            "_model_module_version": "1.2.0",
            "_model_name": "LayoutModel",
            "_view_count": null,
            "_view_module": "@jupyter-widgets/base",
            "_view_module_version": "1.2.0",
            "_view_name": "LayoutView",
            "align_content": null,
            "align_items": null,
            "align_self": null,
            "border": null,
            "bottom": null,
            "display": null,
            "flex": null,
            "flex_flow": null,
            "grid_area": null,
            "grid_auto_columns": null,
            "grid_auto_flow": null,
            "grid_auto_rows": null,
            "grid_column": null,
            "grid_gap": null,
            "grid_row": null,
            "grid_template_areas": null,
            "grid_template_columns": null,
            "grid_template_rows": null,
            "height": null,
            "justify_content": null,
            "justify_items": null,
            "left": null,
            "margin": null,
            "max_height": null,
            "max_width": null,
            "min_height": null,
            "min_width": null,
            "object_fit": null,
            "object_position": null,
            "order": null,
            "overflow": null,
            "overflow_x": null,
            "overflow_y": null,
            "padding": null,
            "right": null,
            "top": null,
            "visibility": null,
            "width": null
          }
        },
        "1fc9907fa8644802a69998ad1b6a74d6": {
          "model_module": "@jupyter-widgets/controls",
          "model_name": "ProgressStyleModel",
          "model_module_version": "1.5.0",
          "state": {
            "_model_module": "@jupyter-widgets/controls",
            "_model_module_version": "1.5.0",
            "_model_name": "ProgressStyleModel",
            "_view_count": null,
            "_view_module": "@jupyter-widgets/base",
            "_view_module_version": "1.2.0",
            "_view_name": "StyleView",
            "bar_color": null,
            "description_width": ""
          }
        },
        "cf8dd8298dbe401dace2205f927016ea": {
          "model_module": "@jupyter-widgets/base",
          "model_name": "LayoutModel",
          "model_module_version": "1.2.0",
          "state": {
            "_model_module": "@jupyter-widgets/base",
            "_model_module_version": "1.2.0",
            "_model_name": "LayoutModel",
            "_view_count": null,
            "_view_module": "@jupyter-widgets/base",
            "_view_module_version": "1.2.0",
            "_view_name": "LayoutView",
            "align_content": null,
            "align_items": null,
            "align_self": null,
            "border": null,
            "bottom": null,
            "display": null,
            "flex": null,
            "flex_flow": null,
            "grid_area": null,
            "grid_auto_columns": null,
            "grid_auto_flow": null,
            "grid_auto_rows": null,
            "grid_column": null,
            "grid_gap": null,
            "grid_row": null,
            "grid_template_areas": null,
            "grid_template_columns": null,
            "grid_template_rows": null,
            "height": null,
            "justify_content": null,
            "justify_items": null,
            "left": null,
            "margin": null,
            "max_height": null,
            "max_width": null,
            "min_height": null,
            "min_width": null,
            "object_fit": null,
            "object_position": null,
            "order": null,
            "overflow": null,
            "overflow_x": null,
            "overflow_y": null,
            "padding": null,
            "right": null,
            "top": null,
            "visibility": null,
            "width": null
          }
        },
        "133fa236e4c34c79918cc346ee1b957f": {
          "model_module": "@jupyter-widgets/controls",
          "model_name": "DescriptionStyleModel",
          "model_module_version": "1.5.0",
          "state": {
            "_model_module": "@jupyter-widgets/controls",
            "_model_module_version": "1.5.0",
            "_model_name": "DescriptionStyleModel",
            "_view_count": null,
            "_view_module": "@jupyter-widgets/base",
            "_view_module_version": "1.2.0",
            "_view_name": "StyleView",
            "description_width": ""
          }
        },
        "2d4d746781244aa8ab8394c4e85c15fb": {
          "model_module": "@jupyter-widgets/controls",
          "model_name": "HBoxModel",
          "model_module_version": "1.5.0",
          "state": {
            "_dom_classes": [],
            "_model_module": "@jupyter-widgets/controls",
            "_model_module_version": "1.5.0",
            "_model_name": "HBoxModel",
            "_view_count": null,
            "_view_module": "@jupyter-widgets/controls",
            "_view_module_version": "1.5.0",
            "_view_name": "HBoxView",
            "box_style": "",
            "children": [
              "IPY_MODEL_a85db96bb25a4b849256cdf2e7c911a0",
              "IPY_MODEL_d19b553298b74dbbb493ed121e5018d3",
              "IPY_MODEL_204202af8b3d474692ec73965197f29c"
            ],
            "layout": "IPY_MODEL_bb04622f1eaf4a4b933091fbbb6e734f"
          }
        },
        "a85db96bb25a4b849256cdf2e7c911a0": {
          "model_module": "@jupyter-widgets/controls",
          "model_name": "HTMLModel",
          "model_module_version": "1.5.0",
          "state": {
            "_dom_classes": [],
            "_model_module": "@jupyter-widgets/controls",
            "_model_module_version": "1.5.0",
            "_model_name": "HTMLModel",
            "_view_count": null,
            "_view_module": "@jupyter-widgets/controls",
            "_view_module_version": "1.5.0",
            "_view_name": "HTMLView",
            "description": "",
            "description_tooltip": null,
            "layout": "IPY_MODEL_13c8fcc3c26b467c953cf7875f388080",
            "placeholder": "​",
            "style": "IPY_MODEL_c5cfe10fad194390907112f98ade5a6f",
            "value": "tokenizer.json: 100%"
          }
        },
        "d19b553298b74dbbb493ed121e5018d3": {
          "model_module": "@jupyter-widgets/controls",
          "model_name": "FloatProgressModel",
          "model_module_version": "1.5.0",
          "state": {
            "_dom_classes": [],
            "_model_module": "@jupyter-widgets/controls",
            "_model_module_version": "1.5.0",
            "_model_name": "FloatProgressModel",
            "_view_count": null,
            "_view_module": "@jupyter-widgets/controls",
            "_view_module_version": "1.5.0",
            "_view_name": "ProgressView",
            "bar_style": "success",
            "description": "",
            "description_tooltip": null,
            "layout": "IPY_MODEL_96c05b79fc514e7eaea7dd803dbdfbe5",
            "max": 2113738,
            "min": 0,
            "orientation": "horizontal",
            "style": "IPY_MODEL_9b3cbf1305db47c2b9030dddb467c1a3",
            "value": 2113738
          }
        },
        "204202af8b3d474692ec73965197f29c": {
          "model_module": "@jupyter-widgets/controls",
          "model_name": "HTMLModel",
          "model_module_version": "1.5.0",
          "state": {
            "_dom_classes": [],
            "_model_module": "@jupyter-widgets/controls",
            "_model_module_version": "1.5.0",
            "_model_name": "HTMLModel",
            "_view_count": null,
            "_view_module": "@jupyter-widgets/controls",
            "_view_module_version": "1.5.0",
            "_view_name": "HTMLView",
            "description": "",
            "description_tooltip": null,
            "layout": "IPY_MODEL_6a65c941ecd64e1ba61e15c09434c8cd",
            "placeholder": "​",
            "style": "IPY_MODEL_d52d6309162c4121b7cc9967856247ee",
            "value": " 2.11M/2.11M [00:00&lt;00:00, 6.43MB/s]"
          }
        },
        "bb04622f1eaf4a4b933091fbbb6e734f": {
          "model_module": "@jupyter-widgets/base",
          "model_name": "LayoutModel",
          "model_module_version": "1.2.0",
          "state": {
            "_model_module": "@jupyter-widgets/base",
            "_model_module_version": "1.2.0",
            "_model_name": "LayoutModel",
            "_view_count": null,
            "_view_module": "@jupyter-widgets/base",
            "_view_module_version": "1.2.0",
            "_view_name": "LayoutView",
            "align_content": null,
            "align_items": null,
            "align_self": null,
            "border": null,
            "bottom": null,
            "display": null,
            "flex": null,
            "flex_flow": null,
            "grid_area": null,
            "grid_auto_columns": null,
            "grid_auto_flow": null,
            "grid_auto_rows": null,
            "grid_column": null,
            "grid_gap": null,
            "grid_row": null,
            "grid_template_areas": null,
            "grid_template_columns": null,
            "grid_template_rows": null,
            "height": null,
            "justify_content": null,
            "justify_items": null,
            "left": null,
            "margin": null,
            "max_height": null,
            "max_width": null,
            "min_height": null,
            "min_width": null,
            "object_fit": null,
            "object_position": null,
            "order": null,
            "overflow": null,
            "overflow_x": null,
            "overflow_y": null,
            "padding": null,
            "right": null,
            "top": null,
            "visibility": null,
            "width": null
          }
        },
        "13c8fcc3c26b467c953cf7875f388080": {
          "model_module": "@jupyter-widgets/base",
          "model_name": "LayoutModel",
          "model_module_version": "1.2.0",
          "state": {
            "_model_module": "@jupyter-widgets/base",
            "_model_module_version": "1.2.0",
            "_model_name": "LayoutModel",
            "_view_count": null,
            "_view_module": "@jupyter-widgets/base",
            "_view_module_version": "1.2.0",
            "_view_name": "LayoutView",
            "align_content": null,
            "align_items": null,
            "align_self": null,
            "border": null,
            "bottom": null,
            "display": null,
            "flex": null,
            "flex_flow": null,
            "grid_area": null,
            "grid_auto_columns": null,
            "grid_auto_flow": null,
            "grid_auto_rows": null,
            "grid_column": null,
            "grid_gap": null,
            "grid_row": null,
            "grid_template_areas": null,
            "grid_template_columns": null,
            "grid_template_rows": null,
            "height": null,
            "justify_content": null,
            "justify_items": null,
            "left": null,
            "margin": null,
            "max_height": null,
            "max_width": null,
            "min_height": null,
            "min_width": null,
            "object_fit": null,
            "object_position": null,
            "order": null,
            "overflow": null,
            "overflow_x": null,
            "overflow_y": null,
            "padding": null,
            "right": null,
            "top": null,
            "visibility": null,
            "width": null
          }
        },
        "c5cfe10fad194390907112f98ade5a6f": {
          "model_module": "@jupyter-widgets/controls",
          "model_name": "DescriptionStyleModel",
          "model_module_version": "1.5.0",
          "state": {
            "_model_module": "@jupyter-widgets/controls",
            "_model_module_version": "1.5.0",
            "_model_name": "DescriptionStyleModel",
            "_view_count": null,
            "_view_module": "@jupyter-widgets/base",
            "_view_module_version": "1.2.0",
            "_view_name": "StyleView",
            "description_width": ""
          }
        },
        "96c05b79fc514e7eaea7dd803dbdfbe5": {
          "model_module": "@jupyter-widgets/base",
          "model_name": "LayoutModel",
          "model_module_version": "1.2.0",
          "state": {
            "_model_module": "@jupyter-widgets/base",
            "_model_module_version": "1.2.0",
            "_model_name": "LayoutModel",
            "_view_count": null,
            "_view_module": "@jupyter-widgets/base",
            "_view_module_version": "1.2.0",
            "_view_name": "LayoutView",
            "align_content": null,
            "align_items": null,
            "align_self": null,
            "border": null,
            "bottom": null,
            "display": null,
            "flex": null,
            "flex_flow": null,
            "grid_area": null,
            "grid_auto_columns": null,
            "grid_auto_flow": null,
            "grid_auto_rows": null,
            "grid_column": null,
            "grid_gap": null,
            "grid_row": null,
            "grid_template_areas": null,
            "grid_template_columns": null,
            "grid_template_rows": null,
            "height": null,
            "justify_content": null,
            "justify_items": null,
            "left": null,
            "margin": null,
            "max_height": null,
            "max_width": null,
            "min_height": null,
            "min_width": null,
            "object_fit": null,
            "object_position": null,
            "order": null,
            "overflow": null,
            "overflow_x": null,
            "overflow_y": null,
            "padding": null,
            "right": null,
            "top": null,
            "visibility": null,
            "width": null
          }
        },
        "9b3cbf1305db47c2b9030dddb467c1a3": {
          "model_module": "@jupyter-widgets/controls",
          "model_name": "ProgressStyleModel",
          "model_module_version": "1.5.0",
          "state": {
            "_model_module": "@jupyter-widgets/controls",
            "_model_module_version": "1.5.0",
            "_model_name": "ProgressStyleModel",
            "_view_count": null,
            "_view_module": "@jupyter-widgets/base",
            "_view_module_version": "1.2.0",
            "_view_name": "StyleView",
            "bar_color": null,
            "description_width": ""
          }
        },
        "6a65c941ecd64e1ba61e15c09434c8cd": {
          "model_module": "@jupyter-widgets/base",
          "model_name": "LayoutModel",
          "model_module_version": "1.2.0",
          "state": {
            "_model_module": "@jupyter-widgets/base",
            "_model_module_version": "1.2.0",
            "_model_name": "LayoutModel",
            "_view_count": null,
            "_view_module": "@jupyter-widgets/base",
            "_view_module_version": "1.2.0",
            "_view_name": "LayoutView",
            "align_content": null,
            "align_items": null,
            "align_self": null,
            "border": null,
            "bottom": null,
            "display": null,
            "flex": null,
            "flex_flow": null,
            "grid_area": null,
            "grid_auto_columns": null,
            "grid_auto_flow": null,
            "grid_auto_rows": null,
            "grid_column": null,
            "grid_gap": null,
            "grid_row": null,
            "grid_template_areas": null,
            "grid_template_columns": null,
            "grid_template_rows": null,
            "height": null,
            "justify_content": null,
            "justify_items": null,
            "left": null,
            "margin": null,
            "max_height": null,
            "max_width": null,
            "min_height": null,
            "min_width": null,
            "object_fit": null,
            "object_position": null,
            "order": null,
            "overflow": null,
            "overflow_x": null,
            "overflow_y": null,
            "padding": null,
            "right": null,
            "top": null,
            "visibility": null,
            "width": null
          }
        },
        "d52d6309162c4121b7cc9967856247ee": {
          "model_module": "@jupyter-widgets/controls",
          "model_name": "DescriptionStyleModel",
          "model_module_version": "1.5.0",
          "state": {
            "_model_module": "@jupyter-widgets/controls",
            "_model_module_version": "1.5.0",
            "_model_name": "DescriptionStyleModel",
            "_view_count": null,
            "_view_module": "@jupyter-widgets/base",
            "_view_module_version": "1.2.0",
            "_view_name": "StyleView",
            "description_width": ""
          }
        },
        "46c451e9393c41e5b48a158a852ad22a": {
          "model_module": "@jupyter-widgets/controls",
          "model_name": "HBoxModel",
          "model_module_version": "1.5.0",
          "state": {
            "_dom_classes": [],
            "_model_module": "@jupyter-widgets/controls",
            "_model_module_version": "1.5.0",
            "_model_name": "HBoxModel",
            "_view_count": null,
            "_view_module": "@jupyter-widgets/controls",
            "_view_module_version": "1.5.0",
            "_view_name": "HBoxView",
            "box_style": "",
            "children": [
              "IPY_MODEL_a4a1d347ce454b9d912d499a5f14ec6e",
              "IPY_MODEL_e94719780630490eb514c0d09a59887a",
              "IPY_MODEL_fe55fc70a11f4d739b975641be2b36ad"
            ],
            "layout": "IPY_MODEL_113c3fc1e6174910b2f3921560c382e4"
          }
        },
        "a4a1d347ce454b9d912d499a5f14ec6e": {
          "model_module": "@jupyter-widgets/controls",
          "model_name": "HTMLModel",
          "model_module_version": "1.5.0",
          "state": {
            "_dom_classes": [],
            "_model_module": "@jupyter-widgets/controls",
            "_model_module_version": "1.5.0",
            "_model_name": "HTMLModel",
            "_view_count": null,
            "_view_module": "@jupyter-widgets/controls",
            "_view_module_version": "1.5.0",
            "_view_name": "HTMLView",
            "description": "",
            "description_tooltip": null,
            "layout": "IPY_MODEL_f0b20555ef03491990269a9a11d8f371",
            "placeholder": "​",
            "style": "IPY_MODEL_71e0ded31ea147afa1853a43969b5713",
            "value": "special_tokens_map.json: 100%"
          }
        },
        "e94719780630490eb514c0d09a59887a": {
          "model_module": "@jupyter-widgets/controls",
          "model_name": "FloatProgressModel",
          "model_module_version": "1.5.0",
          "state": {
            "_dom_classes": [],
            "_model_module": "@jupyter-widgets/controls",
            "_model_module_version": "1.5.0",
            "_model_name": "FloatProgressModel",
            "_view_count": null,
            "_view_module": "@jupyter-widgets/controls",
            "_view_module_version": "1.5.0",
            "_view_name": "ProgressView",
            "bar_style": "success",
            "description": "",
            "description_tooltip": null,
            "layout": "IPY_MODEL_3b8efa83ba344b3ba9bbada2f6eadb15",
            "max": 99,
            "min": 0,
            "orientation": "horizontal",
            "style": "IPY_MODEL_49383997af6f4d89b0d0c1a5675896eb",
            "value": 99
          }
        },
        "fe55fc70a11f4d739b975641be2b36ad": {
          "model_module": "@jupyter-widgets/controls",
          "model_name": "HTMLModel",
          "model_module_version": "1.5.0",
          "state": {
            "_dom_classes": [],
            "_model_module": "@jupyter-widgets/controls",
            "_model_module_version": "1.5.0",
            "_model_name": "HTMLModel",
            "_view_count": null,
            "_view_module": "@jupyter-widgets/controls",
            "_view_module_version": "1.5.0",
            "_view_name": "HTMLView",
            "description": "",
            "description_tooltip": null,
            "layout": "IPY_MODEL_2ef21308e4604e7699d573c6d34d13c6",
            "placeholder": "​",
            "style": "IPY_MODEL_bec4d2fbbcd74aad8eed62c1f0288a9c",
            "value": " 99.0/99.0 [00:00&lt;00:00, 7.03kB/s]"
          }
        },
        "113c3fc1e6174910b2f3921560c382e4": {
          "model_module": "@jupyter-widgets/base",
          "model_name": "LayoutModel",
          "model_module_version": "1.2.0",
          "state": {
            "_model_module": "@jupyter-widgets/base",
            "_model_module_version": "1.2.0",
            "_model_name": "LayoutModel",
            "_view_count": null,
            "_view_module": "@jupyter-widgets/base",
            "_view_module_version": "1.2.0",
            "_view_name": "LayoutView",
            "align_content": null,
            "align_items": null,
            "align_self": null,
            "border": null,
            "bottom": null,
            "display": null,
            "flex": null,
            "flex_flow": null,
            "grid_area": null,
            "grid_auto_columns": null,
            "grid_auto_flow": null,
            "grid_auto_rows": null,
            "grid_column": null,
            "grid_gap": null,
            "grid_row": null,
            "grid_template_areas": null,
            "grid_template_columns": null,
            "grid_template_rows": null,
            "height": null,
            "justify_content": null,
            "justify_items": null,
            "left": null,
            "margin": null,
            "max_height": null,
            "max_width": null,
            "min_height": null,
            "min_width": null,
            "object_fit": null,
            "object_position": null,
            "order": null,
            "overflow": null,
            "overflow_x": null,
            "overflow_y": null,
            "padding": null,
            "right": null,
            "top": null,
            "visibility": null,
            "width": null
          }
        },
        "f0b20555ef03491990269a9a11d8f371": {
          "model_module": "@jupyter-widgets/base",
          "model_name": "LayoutModel",
          "model_module_version": "1.2.0",
          "state": {
            "_model_module": "@jupyter-widgets/base",
            "_model_module_version": "1.2.0",
            "_model_name": "LayoutModel",
            "_view_count": null,
            "_view_module": "@jupyter-widgets/base",
            "_view_module_version": "1.2.0",
            "_view_name": "LayoutView",
            "align_content": null,
            "align_items": null,
            "align_self": null,
            "border": null,
            "bottom": null,
            "display": null,
            "flex": null,
            "flex_flow": null,
            "grid_area": null,
            "grid_auto_columns": null,
            "grid_auto_flow": null,
            "grid_auto_rows": null,
            "grid_column": null,
            "grid_gap": null,
            "grid_row": null,
            "grid_template_areas": null,
            "grid_template_columns": null,
            "grid_template_rows": null,
            "height": null,
            "justify_content": null,
            "justify_items": null,
            "left": null,
            "margin": null,
            "max_height": null,
            "max_width": null,
            "min_height": null,
            "min_width": null,
            "object_fit": null,
            "object_position": null,
            "order": null,
            "overflow": null,
            "overflow_x": null,
            "overflow_y": null,
            "padding": null,
            "right": null,
            "top": null,
            "visibility": null,
            "width": null
          }
        },
        "71e0ded31ea147afa1853a43969b5713": {
          "model_module": "@jupyter-widgets/controls",
          "model_name": "DescriptionStyleModel",
          "model_module_version": "1.5.0",
          "state": {
            "_model_module": "@jupyter-widgets/controls",
            "_model_module_version": "1.5.0",
            "_model_name": "DescriptionStyleModel",
            "_view_count": null,
            "_view_module": "@jupyter-widgets/base",
            "_view_module_version": "1.2.0",
            "_view_name": "StyleView",
            "description_width": ""
          }
        },
        "3b8efa83ba344b3ba9bbada2f6eadb15": {
          "model_module": "@jupyter-widgets/base",
          "model_name": "LayoutModel",
          "model_module_version": "1.2.0",
          "state": {
            "_model_module": "@jupyter-widgets/base",
            "_model_module_version": "1.2.0",
            "_model_name": "LayoutModel",
            "_view_count": null,
            "_view_module": "@jupyter-widgets/base",
            "_view_module_version": "1.2.0",
            "_view_name": "LayoutView",
            "align_content": null,
            "align_items": null,
            "align_self": null,
            "border": null,
            "bottom": null,
            "display": null,
            "flex": null,
            "flex_flow": null,
            "grid_area": null,
            "grid_auto_columns": null,
            "grid_auto_flow": null,
            "grid_auto_rows": null,
            "grid_column": null,
            "grid_gap": null,
            "grid_row": null,
            "grid_template_areas": null,
            "grid_template_columns": null,
            "grid_template_rows": null,
            "height": null,
            "justify_content": null,
            "justify_items": null,
            "left": null,
            "margin": null,
            "max_height": null,
            "max_width": null,
            "min_height": null,
            "min_width": null,
            "object_fit": null,
            "object_position": null,
            "order": null,
            "overflow": null,
            "overflow_x": null,
            "overflow_y": null,
            "padding": null,
            "right": null,
            "top": null,
            "visibility": null,
            "width": null
          }
        },
        "49383997af6f4d89b0d0c1a5675896eb": {
          "model_module": "@jupyter-widgets/controls",
          "model_name": "ProgressStyleModel",
          "model_module_version": "1.5.0",
          "state": {
            "_model_module": "@jupyter-widgets/controls",
            "_model_module_version": "1.5.0",
            "_model_name": "ProgressStyleModel",
            "_view_count": null,
            "_view_module": "@jupyter-widgets/base",
            "_view_module_version": "1.2.0",
            "_view_name": "StyleView",
            "bar_color": null,
            "description_width": ""
          }
        },
        "2ef21308e4604e7699d573c6d34d13c6": {
          "model_module": "@jupyter-widgets/base",
          "model_name": "LayoutModel",
          "model_module_version": "1.2.0",
          "state": {
            "_model_module": "@jupyter-widgets/base",
            "_model_module_version": "1.2.0",
            "_model_name": "LayoutModel",
            "_view_count": null,
            "_view_module": "@jupyter-widgets/base",
            "_view_module_version": "1.2.0",
            "_view_name": "LayoutView",
            "align_content": null,
            "align_items": null,
            "align_self": null,
            "border": null,
            "bottom": null,
            "display": null,
            "flex": null,
            "flex_flow": null,
            "grid_area": null,
            "grid_auto_columns": null,
            "grid_auto_flow": null,
            "grid_auto_rows": null,
            "grid_column": null,
            "grid_gap": null,
            "grid_row": null,
            "grid_template_areas": null,
            "grid_template_columns": null,
            "grid_template_rows": null,
            "height": null,
            "justify_content": null,
            "justify_items": null,
            "left": null,
            "margin": null,
            "max_height": null,
            "max_width": null,
            "min_height": null,
            "min_width": null,
            "object_fit": null,
            "object_position": null,
            "order": null,
            "overflow": null,
            "overflow_x": null,
            "overflow_y": null,
            "padding": null,
            "right": null,
            "top": null,
            "visibility": null,
            "width": null
          }
        },
        "bec4d2fbbcd74aad8eed62c1f0288a9c": {
          "model_module": "@jupyter-widgets/controls",
          "model_name": "DescriptionStyleModel",
          "model_module_version": "1.5.0",
          "state": {
            "_model_module": "@jupyter-widgets/controls",
            "_model_module_version": "1.5.0",
            "_model_name": "DescriptionStyleModel",
            "_view_count": null,
            "_view_module": "@jupyter-widgets/base",
            "_view_module_version": "1.2.0",
            "_view_name": "StyleView",
            "description_width": ""
          }
        },
        "9c977c6c638f476e8ca7f81811148f75": {
          "model_module": "@jupyter-widgets/controls",
          "model_name": "HBoxModel",
          "model_module_version": "1.5.0",
          "state": {
            "_dom_classes": [],
            "_model_module": "@jupyter-widgets/controls",
            "_model_module_version": "1.5.0",
            "_model_name": "HBoxModel",
            "_view_count": null,
            "_view_module": "@jupyter-widgets/controls",
            "_view_module_version": "1.5.0",
            "_view_name": "HBoxView",
            "box_style": "",
            "children": [
              "IPY_MODEL_8dd622614d7c4c158483c4b9c0c1d17e",
              "IPY_MODEL_d553d60f91254a48a17892848d5e9779",
              "IPY_MODEL_d6353836ea674b32ac5bad215cf6a8c2"
            ],
            "layout": "IPY_MODEL_6e22d02063dc4d40b020656caea3d90f"
          }
        },
        "8dd622614d7c4c158483c4b9c0c1d17e": {
          "model_module": "@jupyter-widgets/controls",
          "model_name": "HTMLModel",
          "model_module_version": "1.5.0",
          "state": {
            "_dom_classes": [],
            "_model_module": "@jupyter-widgets/controls",
            "_model_module_version": "1.5.0",
            "_model_name": "HTMLModel",
            "_view_count": null,
            "_view_module": "@jupyter-widgets/controls",
            "_view_module_version": "1.5.0",
            "_view_name": "HTMLView",
            "description": "",
            "description_tooltip": null,
            "layout": "IPY_MODEL_fc6c16f5dd2645ea806748e99b1369e3",
            "placeholder": "​",
            "style": "IPY_MODEL_0a0ca66999a14de09bd16024b16e5748",
            "value": "config.json: 100%"
          }
        },
        "d553d60f91254a48a17892848d5e9779": {
          "model_module": "@jupyter-widgets/controls",
          "model_name": "FloatProgressModel",
          "model_module_version": "1.5.0",
          "state": {
            "_dom_classes": [],
            "_model_module": "@jupyter-widgets/controls",
            "_model_module_version": "1.5.0",
            "_model_name": "FloatProgressModel",
            "_view_count": null,
            "_view_module": "@jupyter-widgets/controls",
            "_view_module_version": "1.5.0",
            "_view_name": "ProgressView",
            "bar_style": "success",
            "description": "",
            "description_tooltip": null,
            "layout": "IPY_MODEL_ee6512b38bae45eab3637364753eb98f",
            "max": 630,
            "min": 0,
            "orientation": "horizontal",
            "style": "IPY_MODEL_04307c3df0b74dfb8e171aee8665b93e",
            "value": 630
          }
        },
        "d6353836ea674b32ac5bad215cf6a8c2": {
          "model_module": "@jupyter-widgets/controls",
          "model_name": "HTMLModel",
          "model_module_version": "1.5.0",
          "state": {
            "_dom_classes": [],
            "_model_module": "@jupyter-widgets/controls",
            "_model_module_version": "1.5.0",
            "_model_name": "HTMLModel",
            "_view_count": null,
            "_view_module": "@jupyter-widgets/controls",
            "_view_module_version": "1.5.0",
            "_view_name": "HTMLView",
            "description": "",
            "description_tooltip": null,
            "layout": "IPY_MODEL_cce3cc15ed424d73a6d09f8c93d34176",
            "placeholder": "​",
            "style": "IPY_MODEL_88aa27ec44e142c8820d8e85f8cebf7c",
            "value": " 630/630 [00:00&lt;00:00, 29.6kB/s]"
          }
        },
        "6e22d02063dc4d40b020656caea3d90f": {
          "model_module": "@jupyter-widgets/base",
          "model_name": "LayoutModel",
          "model_module_version": "1.2.0",
          "state": {
            "_model_module": "@jupyter-widgets/base",
            "_model_module_version": "1.2.0",
            "_model_name": "LayoutModel",
            "_view_count": null,
            "_view_module": "@jupyter-widgets/base",
            "_view_module_version": "1.2.0",
            "_view_name": "LayoutView",
            "align_content": null,
            "align_items": null,
            "align_self": null,
            "border": null,
            "bottom": null,
            "display": null,
            "flex": null,
            "flex_flow": null,
            "grid_area": null,
            "grid_auto_columns": null,
            "grid_auto_flow": null,
            "grid_auto_rows": null,
            "grid_column": null,
            "grid_gap": null,
            "grid_row": null,
            "grid_template_areas": null,
            "grid_template_columns": null,
            "grid_template_rows": null,
            "height": null,
            "justify_content": null,
            "justify_items": null,
            "left": null,
            "margin": null,
            "max_height": null,
            "max_width": null,
            "min_height": null,
            "min_width": null,
            "object_fit": null,
            "object_position": null,
            "order": null,
            "overflow": null,
            "overflow_x": null,
            "overflow_y": null,
            "padding": null,
            "right": null,
            "top": null,
            "visibility": null,
            "width": null
          }
        },
        "fc6c16f5dd2645ea806748e99b1369e3": {
          "model_module": "@jupyter-widgets/base",
          "model_name": "LayoutModel",
          "model_module_version": "1.2.0",
          "state": {
            "_model_module": "@jupyter-widgets/base",
            "_model_module_version": "1.2.0",
            "_model_name": "LayoutModel",
            "_view_count": null,
            "_view_module": "@jupyter-widgets/base",
            "_view_module_version": "1.2.0",
            "_view_name": "LayoutView",
            "align_content": null,
            "align_items": null,
            "align_self": null,
            "border": null,
            "bottom": null,
            "display": null,
            "flex": null,
            "flex_flow": null,
            "grid_area": null,
            "grid_auto_columns": null,
            "grid_auto_flow": null,
            "grid_auto_rows": null,
            "grid_column": null,
            "grid_gap": null,
            "grid_row": null,
            "grid_template_areas": null,
            "grid_template_columns": null,
            "grid_template_rows": null,
            "height": null,
            "justify_content": null,
            "justify_items": null,
            "left": null,
            "margin": null,
            "max_height": null,
            "max_width": null,
            "min_height": null,
            "min_width": null,
            "object_fit": null,
            "object_position": null,
            "order": null,
            "overflow": null,
            "overflow_x": null,
            "overflow_y": null,
            "padding": null,
            "right": null,
            "top": null,
            "visibility": null,
            "width": null
          }
        },
        "0a0ca66999a14de09bd16024b16e5748": {
          "model_module": "@jupyter-widgets/controls",
          "model_name": "DescriptionStyleModel",
          "model_module_version": "1.5.0",
          "state": {
            "_model_module": "@jupyter-widgets/controls",
            "_model_module_version": "1.5.0",
            "_model_name": "DescriptionStyleModel",
            "_view_count": null,
            "_view_module": "@jupyter-widgets/base",
            "_view_module_version": "1.2.0",
            "_view_name": "StyleView",
            "description_width": ""
          }
        },
        "ee6512b38bae45eab3637364753eb98f": {
          "model_module": "@jupyter-widgets/base",
          "model_name": "LayoutModel",
          "model_module_version": "1.2.0",
          "state": {
            "_model_module": "@jupyter-widgets/base",
            "_model_module_version": "1.2.0",
            "_model_name": "LayoutModel",
            "_view_count": null,
            "_view_module": "@jupyter-widgets/base",
            "_view_module_version": "1.2.0",
            "_view_name": "LayoutView",
            "align_content": null,
            "align_items": null,
            "align_self": null,
            "border": null,
            "bottom": null,
            "display": null,
            "flex": null,
            "flex_flow": null,
            "grid_area": null,
            "grid_auto_columns": null,
            "grid_auto_flow": null,
            "grid_auto_rows": null,
            "grid_column": null,
            "grid_gap": null,
            "grid_row": null,
            "grid_template_areas": null,
            "grid_template_columns": null,
            "grid_template_rows": null,
            "height": null,
            "justify_content": null,
            "justify_items": null,
            "left": null,
            "margin": null,
            "max_height": null,
            "max_width": null,
            "min_height": null,
            "min_width": null,
            "object_fit": null,
            "object_position": null,
            "order": null,
            "overflow": null,
            "overflow_x": null,
            "overflow_y": null,
            "padding": null,
            "right": null,
            "top": null,
            "visibility": null,
            "width": null
          }
        },
        "04307c3df0b74dfb8e171aee8665b93e": {
          "model_module": "@jupyter-widgets/controls",
          "model_name": "ProgressStyleModel",
          "model_module_version": "1.5.0",
          "state": {
            "_model_module": "@jupyter-widgets/controls",
            "_model_module_version": "1.5.0",
            "_model_name": "ProgressStyleModel",
            "_view_count": null,
            "_view_module": "@jupyter-widgets/base",
            "_view_module_version": "1.2.0",
            "_view_name": "StyleView",
            "bar_color": null,
            "description_width": ""
          }
        },
        "cce3cc15ed424d73a6d09f8c93d34176": {
          "model_module": "@jupyter-widgets/base",
          "model_name": "LayoutModel",
          "model_module_version": "1.2.0",
          "state": {
            "_model_module": "@jupyter-widgets/base",
            "_model_module_version": "1.2.0",
            "_model_name": "LayoutModel",
            "_view_count": null,
            "_view_module": "@jupyter-widgets/base",
            "_view_module_version": "1.2.0",
            "_view_name": "LayoutView",
            "align_content": null,
            "align_items": null,
            "align_self": null,
            "border": null,
            "bottom": null,
            "display": null,
            "flex": null,
            "flex_flow": null,
            "grid_area": null,
            "grid_auto_columns": null,
            "grid_auto_flow": null,
            "grid_auto_rows": null,
            "grid_column": null,
            "grid_gap": null,
            "grid_row": null,
            "grid_template_areas": null,
            "grid_template_columns": null,
            "grid_template_rows": null,
            "height": null,
            "justify_content": null,
            "justify_items": null,
            "left": null,
            "margin": null,
            "max_height": null,
            "max_width": null,
            "min_height": null,
            "min_width": null,
            "object_fit": null,
            "object_position": null,
            "order": null,
            "overflow": null,
            "overflow_x": null,
            "overflow_y": null,
            "padding": null,
            "right": null,
            "top": null,
            "visibility": null,
            "width": null
          }
        },
        "88aa27ec44e142c8820d8e85f8cebf7c": {
          "model_module": "@jupyter-widgets/controls",
          "model_name": "DescriptionStyleModel",
          "model_module_version": "1.5.0",
          "state": {
            "_model_module": "@jupyter-widgets/controls",
            "_model_module_version": "1.5.0",
            "_model_name": "DescriptionStyleModel",
            "_view_count": null,
            "_view_module": "@jupyter-widgets/base",
            "_view_module_version": "1.2.0",
            "_view_name": "StyleView",
            "description_width": ""
          }
        },
        "a13c16fdb1c146d4b82a6ca9758d90da": {
          "model_module": "@jupyter-widgets/controls",
          "model_name": "HBoxModel",
          "model_module_version": "1.5.0",
          "state": {
            "_dom_classes": [],
            "_model_module": "@jupyter-widgets/controls",
            "_model_module_version": "1.5.0",
            "_model_name": "HBoxModel",
            "_view_count": null,
            "_view_module": "@jupyter-widgets/controls",
            "_view_module_version": "1.5.0",
            "_view_name": "HBoxView",
            "box_style": "",
            "children": [
              "IPY_MODEL_5454bc936ebc4d40968ae54f29b1d798",
              "IPY_MODEL_f6c88a35a37f4d3f818e22f9fb8ba94b",
              "IPY_MODEL_251a22af28f8444dafa2e78bc4526606"
            ],
            "layout": "IPY_MODEL_f7fef74aa53d4908a435a6b26d1e4b25"
          }
        },
        "5454bc936ebc4d40968ae54f29b1d798": {
          "model_module": "@jupyter-widgets/controls",
          "model_name": "HTMLModel",
          "model_module_version": "1.5.0",
          "state": {
            "_dom_classes": [],
            "_model_module": "@jupyter-widgets/controls",
            "_model_module_version": "1.5.0",
            "_model_name": "HTMLModel",
            "_view_count": null,
            "_view_module": "@jupyter-widgets/controls",
            "_view_module_version": "1.5.0",
            "_view_name": "HTMLView",
            "description": "",
            "description_tooltip": null,
            "layout": "IPY_MODEL_8750b7cafcbb4418aa142b2c91e85a39",
            "placeholder": "​",
            "style": "IPY_MODEL_41970ba2065b449eaf3d10cff4259319",
            "value": "pytorch_model.bin: 100%"
          }
        },
        "f6c88a35a37f4d3f818e22f9fb8ba94b": {
          "model_module": "@jupyter-widgets/controls",
          "model_name": "FloatProgressModel",
          "model_module_version": "1.5.0",
          "state": {
            "_dom_classes": [],
            "_model_module": "@jupyter-widgets/controls",
            "_model_module_version": "1.5.0",
            "_model_name": "FloatProgressModel",
            "_view_count": null,
            "_view_module": "@jupyter-widgets/controls",
            "_view_module_version": "1.5.0",
            "_view_name": "ProgressView",
            "bar_style": "success",
            "description": "",
            "description_tooltip": null,
            "layout": "IPY_MODEL_0ce49c1ab2184d8fb89956377bd8fbe8",
            "max": 5686106713,
            "min": 0,
            "orientation": "horizontal",
            "style": "IPY_MODEL_76cb3a4bbe114b91b625876f2bd4982f",
            "value": 5686106713
          }
        },
        "251a22af28f8444dafa2e78bc4526606": {
          "model_module": "@jupyter-widgets/controls",
          "model_name": "HTMLModel",
          "model_module_version": "1.5.0",
          "state": {
            "_dom_classes": [],
            "_model_module": "@jupyter-widgets/controls",
            "_model_module_version": "1.5.0",
            "_model_name": "HTMLModel",
            "_view_count": null,
            "_view_module": "@jupyter-widgets/controls",
            "_view_module_version": "1.5.0",
            "_view_name": "HTMLView",
            "description": "",
            "description_tooltip": null,
            "layout": "IPY_MODEL_f2ad86a40b2d4868ba4cc750ddf83855",
            "placeholder": "​",
            "style": "IPY_MODEL_37f3d86368814fc8a8b85ffa55410871",
            "value": " 5.69G/5.69G [03:57&lt;00:00, 44.1MB/s]"
          }
        },
        "f7fef74aa53d4908a435a6b26d1e4b25": {
          "model_module": "@jupyter-widgets/base",
          "model_name": "LayoutModel",
          "model_module_version": "1.2.0",
          "state": {
            "_model_module": "@jupyter-widgets/base",
            "_model_module_version": "1.2.0",
            "_model_name": "LayoutModel",
            "_view_count": null,
            "_view_module": "@jupyter-widgets/base",
            "_view_module_version": "1.2.0",
            "_view_name": "LayoutView",
            "align_content": null,
            "align_items": null,
            "align_self": null,
            "border": null,
            "bottom": null,
            "display": null,
            "flex": null,
            "flex_flow": null,
            "grid_area": null,
            "grid_auto_columns": null,
            "grid_auto_flow": null,
            "grid_auto_rows": null,
            "grid_column": null,
            "grid_gap": null,
            "grid_row": null,
            "grid_template_areas": null,
            "grid_template_columns": null,
            "grid_template_rows": null,
            "height": null,
            "justify_content": null,
            "justify_items": null,
            "left": null,
            "margin": null,
            "max_height": null,
            "max_width": null,
            "min_height": null,
            "min_width": null,
            "object_fit": null,
            "object_position": null,
            "order": null,
            "overflow": null,
            "overflow_x": null,
            "overflow_y": null,
            "padding": null,
            "right": null,
            "top": null,
            "visibility": null,
            "width": null
          }
        },
        "8750b7cafcbb4418aa142b2c91e85a39": {
          "model_module": "@jupyter-widgets/base",
          "model_name": "LayoutModel",
          "model_module_version": "1.2.0",
          "state": {
            "_model_module": "@jupyter-widgets/base",
            "_model_module_version": "1.2.0",
            "_model_name": "LayoutModel",
            "_view_count": null,
            "_view_module": "@jupyter-widgets/base",
            "_view_module_version": "1.2.0",
            "_view_name": "LayoutView",
            "align_content": null,
            "align_items": null,
            "align_self": null,
            "border": null,
            "bottom": null,
            "display": null,
            "flex": null,
            "flex_flow": null,
            "grid_area": null,
            "grid_auto_columns": null,
            "grid_auto_flow": null,
            "grid_auto_rows": null,
            "grid_column": null,
            "grid_gap": null,
            "grid_row": null,
            "grid_template_areas": null,
            "grid_template_columns": null,
            "grid_template_rows": null,
            "height": null,
            "justify_content": null,
            "justify_items": null,
            "left": null,
            "margin": null,
            "max_height": null,
            "max_width": null,
            "min_height": null,
            "min_width": null,
            "object_fit": null,
            "object_position": null,
            "order": null,
            "overflow": null,
            "overflow_x": null,
            "overflow_y": null,
            "padding": null,
            "right": null,
            "top": null,
            "visibility": null,
            "width": null
          }
        },
        "41970ba2065b449eaf3d10cff4259319": {
          "model_module": "@jupyter-widgets/controls",
          "model_name": "DescriptionStyleModel",
          "model_module_version": "1.5.0",
          "state": {
            "_model_module": "@jupyter-widgets/controls",
            "_model_module_version": "1.5.0",
            "_model_name": "DescriptionStyleModel",
            "_view_count": null,
            "_view_module": "@jupyter-widgets/base",
            "_view_module_version": "1.2.0",
            "_view_name": "StyleView",
            "description_width": ""
          }
        },
        "0ce49c1ab2184d8fb89956377bd8fbe8": {
          "model_module": "@jupyter-widgets/base",
          "model_name": "LayoutModel",
          "model_module_version": "1.2.0",
          "state": {
            "_model_module": "@jupyter-widgets/base",
            "_model_module_version": "1.2.0",
            "_model_name": "LayoutModel",
            "_view_count": null,
            "_view_module": "@jupyter-widgets/base",
            "_view_module_version": "1.2.0",
            "_view_name": "LayoutView",
            "align_content": null,
            "align_items": null,
            "align_self": null,
            "border": null,
            "bottom": null,
            "display": null,
            "flex": null,
            "flex_flow": null,
            "grid_area": null,
            "grid_auto_columns": null,
            "grid_auto_flow": null,
            "grid_auto_rows": null,
            "grid_column": null,
            "grid_gap": null,
            "grid_row": null,
            "grid_template_areas": null,
            "grid_template_columns": null,
            "grid_template_rows": null,
            "height": null,
            "justify_content": null,
            "justify_items": null,
            "left": null,
            "margin": null,
            "max_height": null,
            "max_width": null,
            "min_height": null,
            "min_width": null,
            "object_fit": null,
            "object_position": null,
            "order": null,
            "overflow": null,
            "overflow_x": null,
            "overflow_y": null,
            "padding": null,
            "right": null,
            "top": null,
            "visibility": null,
            "width": null
          }
        },
        "76cb3a4bbe114b91b625876f2bd4982f": {
          "model_module": "@jupyter-widgets/controls",
          "model_name": "ProgressStyleModel",
          "model_module_version": "1.5.0",
          "state": {
            "_model_module": "@jupyter-widgets/controls",
            "_model_module_version": "1.5.0",
            "_model_name": "ProgressStyleModel",
            "_view_count": null,
            "_view_module": "@jupyter-widgets/base",
            "_view_module_version": "1.2.0",
            "_view_name": "StyleView",
            "bar_color": null,
            "description_width": ""
          }
        },
        "f2ad86a40b2d4868ba4cc750ddf83855": {
          "model_module": "@jupyter-widgets/base",
          "model_name": "LayoutModel",
          "model_module_version": "1.2.0",
          "state": {
            "_model_module": "@jupyter-widgets/base",
            "_model_module_version": "1.2.0",
            "_model_name": "LayoutModel",
            "_view_count": null,
            "_view_module": "@jupyter-widgets/base",
            "_view_module_version": "1.2.0",
            "_view_name": "LayoutView",
            "align_content": null,
            "align_items": null,
            "align_self": null,
            "border": null,
            "bottom": null,
            "display": null,
            "flex": null,
            "flex_flow": null,
            "grid_area": null,
            "grid_auto_columns": null,
            "grid_auto_flow": null,
            "grid_auto_rows": null,
            "grid_column": null,
            "grid_gap": null,
            "grid_row": null,
            "grid_template_areas": null,
            "grid_template_columns": null,
            "grid_template_rows": null,
            "height": null,
            "justify_content": null,
            "justify_items": null,
            "left": null,
            "margin": null,
            "max_height": null,
            "max_width": null,
            "min_height": null,
            "min_width": null,
            "object_fit": null,
            "object_position": null,
            "order": null,
            "overflow": null,
            "overflow_x": null,
            "overflow_y": null,
            "padding": null,
            "right": null,
            "top": null,
            "visibility": null,
            "width": null
          }
        },
        "37f3d86368814fc8a8b85ffa55410871": {
          "model_module": "@jupyter-widgets/controls",
          "model_name": "DescriptionStyleModel",
          "model_module_version": "1.5.0",
          "state": {
            "_model_module": "@jupyter-widgets/controls",
            "_model_module_version": "1.5.0",
            "_model_name": "DescriptionStyleModel",
            "_view_count": null,
            "_view_module": "@jupyter-widgets/base",
            "_view_module_version": "1.2.0",
            "_view_name": "StyleView",
            "description_width": ""
          }
        },
        "483bb8c1b64c4c69ae35541804bbef42": {
          "model_module": "@jupyter-widgets/controls",
          "model_name": "HBoxModel",
          "model_module_version": "1.5.0",
          "state": {
            "_dom_classes": [],
            "_model_module": "@jupyter-widgets/controls",
            "_model_module_version": "1.5.0",
            "_model_name": "HBoxModel",
            "_view_count": null,
            "_view_module": "@jupyter-widgets/controls",
            "_view_module_version": "1.5.0",
            "_view_name": "HBoxView",
            "box_style": "",
            "children": [
              "IPY_MODEL_576d2ca8b0504e7ca9aae97971228435",
              "IPY_MODEL_234efa8858e74deeb8435aaf08ef2d3e",
              "IPY_MODEL_ad1c64d3b5ef41bcbb62c4da90ad5fd4"
            ],
            "layout": "IPY_MODEL_e8ba5519145e46a29b46c2a63573ad36"
          }
        },
        "576d2ca8b0504e7ca9aae97971228435": {
          "model_module": "@jupyter-widgets/controls",
          "model_name": "HTMLModel",
          "model_module_version": "1.5.0",
          "state": {
            "_dom_classes": [],
            "_model_module": "@jupyter-widgets/controls",
            "_model_module_version": "1.5.0",
            "_model_name": "HTMLModel",
            "_view_count": null,
            "_view_module": "@jupyter-widgets/controls",
            "_view_module_version": "1.5.0",
            "_view_name": "HTMLView",
            "description": "",
            "description_tooltip": null,
            "layout": "IPY_MODEL_d6bad630647c425fb76851114aaa65b9",
            "placeholder": "​",
            "style": "IPY_MODEL_0405b241947747c08e2be55906178ea9",
            "value": "generation_config.json: 100%"
          }
        },
        "234efa8858e74deeb8435aaf08ef2d3e": {
          "model_module": "@jupyter-widgets/controls",
          "model_name": "FloatProgressModel",
          "model_module_version": "1.5.0",
          "state": {
            "_dom_classes": [],
            "_model_module": "@jupyter-widgets/controls",
            "_model_module_version": "1.5.0",
            "_model_name": "FloatProgressModel",
            "_view_count": null,
            "_view_module": "@jupyter-widgets/controls",
            "_view_module_version": "1.5.0",
            "_view_name": "ProgressView",
            "bar_style": "success",
            "description": "",
            "description_tooltip": null,
            "layout": "IPY_MODEL_572f4e261225481f88dad1ff9ee989fb",
            "max": 111,
            "min": 0,
            "orientation": "horizontal",
            "style": "IPY_MODEL_4e9b7af33e7649968ff2c2b82384e2b2",
            "value": 111
          }
        },
        "ad1c64d3b5ef41bcbb62c4da90ad5fd4": {
          "model_module": "@jupyter-widgets/controls",
          "model_name": "HTMLModel",
          "model_module_version": "1.5.0",
          "state": {
            "_dom_classes": [],
            "_model_module": "@jupyter-widgets/controls",
            "_model_module_version": "1.5.0",
            "_model_name": "HTMLModel",
            "_view_count": null,
            "_view_module": "@jupyter-widgets/controls",
            "_view_module_version": "1.5.0",
            "_view_name": "HTMLView",
            "description": "",
            "description_tooltip": null,
            "layout": "IPY_MODEL_7de770d876344567a0d8982403b99558",
            "placeholder": "​",
            "style": "IPY_MODEL_8ca65fa7d8f84346a2582cf660a3e4b1",
            "value": " 111/111 [00:00&lt;00:00, 6.26kB/s]"
          }
        },
        "e8ba5519145e46a29b46c2a63573ad36": {
          "model_module": "@jupyter-widgets/base",
          "model_name": "LayoutModel",
          "model_module_version": "1.2.0",
          "state": {
            "_model_module": "@jupyter-widgets/base",
            "_model_module_version": "1.2.0",
            "_model_name": "LayoutModel",
            "_view_count": null,
            "_view_module": "@jupyter-widgets/base",
            "_view_module_version": "1.2.0",
            "_view_name": "LayoutView",
            "align_content": null,
            "align_items": null,
            "align_self": null,
            "border": null,
            "bottom": null,
            "display": null,
            "flex": null,
            "flex_flow": null,
            "grid_area": null,
            "grid_auto_columns": null,
            "grid_auto_flow": null,
            "grid_auto_rows": null,
            "grid_column": null,
            "grid_gap": null,
            "grid_row": null,
            "grid_template_areas": null,
            "grid_template_columns": null,
            "grid_template_rows": null,
            "height": null,
            "justify_content": null,
            "justify_items": null,
            "left": null,
            "margin": null,
            "max_height": null,
            "max_width": null,
            "min_height": null,
            "min_width": null,
            "object_fit": null,
            "object_position": null,
            "order": null,
            "overflow": null,
            "overflow_x": null,
            "overflow_y": null,
            "padding": null,
            "right": null,
            "top": null,
            "visibility": null,
            "width": null
          }
        },
        "d6bad630647c425fb76851114aaa65b9": {
          "model_module": "@jupyter-widgets/base",
          "model_name": "LayoutModel",
          "model_module_version": "1.2.0",
          "state": {
            "_model_module": "@jupyter-widgets/base",
            "_model_module_version": "1.2.0",
            "_model_name": "LayoutModel",
            "_view_count": null,
            "_view_module": "@jupyter-widgets/base",
            "_view_module_version": "1.2.0",
            "_view_name": "LayoutView",
            "align_content": null,
            "align_items": null,
            "align_self": null,
            "border": null,
            "bottom": null,
            "display": null,
            "flex": null,
            "flex_flow": null,
            "grid_area": null,
            "grid_auto_columns": null,
            "grid_auto_flow": null,
            "grid_auto_rows": null,
            "grid_column": null,
            "grid_gap": null,
            "grid_row": null,
            "grid_template_areas": null,
            "grid_template_columns": null,
            "grid_template_rows": null,
            "height": null,
            "justify_content": null,
            "justify_items": null,
            "left": null,
            "margin": null,
            "max_height": null,
            "max_width": null,
            "min_height": null,
            "min_width": null,
            "object_fit": null,
            "object_position": null,
            "order": null,
            "overflow": null,
            "overflow_x": null,
            "overflow_y": null,
            "padding": null,
            "right": null,
            "top": null,
            "visibility": null,
            "width": null
          }
        },
        "0405b241947747c08e2be55906178ea9": {
          "model_module": "@jupyter-widgets/controls",
          "model_name": "DescriptionStyleModel",
          "model_module_version": "1.5.0",
          "state": {
            "_model_module": "@jupyter-widgets/controls",
            "_model_module_version": "1.5.0",
            "_model_name": "DescriptionStyleModel",
            "_view_count": null,
            "_view_module": "@jupyter-widgets/base",
            "_view_module_version": "1.2.0",
            "_view_name": "StyleView",
            "description_width": ""
          }
        },
        "572f4e261225481f88dad1ff9ee989fb": {
          "model_module": "@jupyter-widgets/base",
          "model_name": "LayoutModel",
          "model_module_version": "1.2.0",
          "state": {
            "_model_module": "@jupyter-widgets/base",
            "_model_module_version": "1.2.0",
            "_model_name": "LayoutModel",
            "_view_count": null,
            "_view_module": "@jupyter-widgets/base",
            "_view_module_version": "1.2.0",
            "_view_name": "LayoutView",
            "align_content": null,
            "align_items": null,
            "align_self": null,
            "border": null,
            "bottom": null,
            "display": null,
            "flex": null,
            "flex_flow": null,
            "grid_area": null,
            "grid_auto_columns": null,
            "grid_auto_flow": null,
            "grid_auto_rows": null,
            "grid_column": null,
            "grid_gap": null,
            "grid_row": null,
            "grid_template_areas": null,
            "grid_template_columns": null,
            "grid_template_rows": null,
            "height": null,
            "justify_content": null,
            "justify_items": null,
            "left": null,
            "margin": null,
            "max_height": null,
            "max_width": null,
            "min_height": null,
            "min_width": null,
            "object_fit": null,
            "object_position": null,
            "order": null,
            "overflow": null,
            "overflow_x": null,
            "overflow_y": null,
            "padding": null,
            "right": null,
            "top": null,
            "visibility": null,
            "width": null
          }
        },
        "4e9b7af33e7649968ff2c2b82384e2b2": {
          "model_module": "@jupyter-widgets/controls",
          "model_name": "ProgressStyleModel",
          "model_module_version": "1.5.0",
          "state": {
            "_model_module": "@jupyter-widgets/controls",
            "_model_module_version": "1.5.0",
            "_model_name": "ProgressStyleModel",
            "_view_count": null,
            "_view_module": "@jupyter-widgets/base",
            "_view_module_version": "1.2.0",
            "_view_name": "StyleView",
            "bar_color": null,
            "description_width": ""
          }
        },
        "7de770d876344567a0d8982403b99558": {
          "model_module": "@jupyter-widgets/base",
          "model_name": "LayoutModel",
          "model_module_version": "1.2.0",
          "state": {
            "_model_module": "@jupyter-widgets/base",
            "_model_module_version": "1.2.0",
            "_model_name": "LayoutModel",
            "_view_count": null,
            "_view_module": "@jupyter-widgets/base",
            "_view_module_version": "1.2.0",
            "_view_name": "LayoutView",
            "align_content": null,
            "align_items": null,
            "align_self": null,
            "border": null,
            "bottom": null,
            "display": null,
            "flex": null,
            "flex_flow": null,
            "grid_area": null,
            "grid_auto_columns": null,
            "grid_auto_flow": null,
            "grid_auto_rows": null,
            "grid_column": null,
            "grid_gap": null,
            "grid_row": null,
            "grid_template_areas": null,
            "grid_template_columns": null,
            "grid_template_rows": null,
            "height": null,
            "justify_content": null,
            "justify_items": null,
            "left": null,
            "margin": null,
            "max_height": null,
            "max_width": null,
            "min_height": null,
            "min_width": null,
            "object_fit": null,
            "object_position": null,
            "order": null,
            "overflow": null,
            "overflow_x": null,
            "overflow_y": null,
            "padding": null,
            "right": null,
            "top": null,
            "visibility": null,
            "width": null
          }
        },
        "8ca65fa7d8f84346a2582cf660a3e4b1": {
          "model_module": "@jupyter-widgets/controls",
          "model_name": "DescriptionStyleModel",
          "model_module_version": "1.5.0",
          "state": {
            "_model_module": "@jupyter-widgets/controls",
            "_model_module_version": "1.5.0",
            "_model_name": "DescriptionStyleModel",
            "_view_count": null,
            "_view_module": "@jupyter-widgets/base",
            "_view_module_version": "1.2.0",
            "_view_name": "StyleView",
            "description_width": ""
          }
        }
      }
    }
  },
  "cells": [
    {
      "cell_type": "markdown",
      "source": [
        "**How to Create a Chatbot with Gradio**\n",
        "\n",
        "**Introduction**\n",
        "Chatbots are a popular application of large language models. Using gradio, you can easily build a demo of your chatbot model and share that with your users, or try it yourself using an intuitive chatbot UI.\n",
        "\n",
        "This tutorial uses gr.ChatInterface(), which is a high-level abstraction that allows you to create your chatbot UI fast, often with a single line of code. The chatbot interface that we create will look something like this:\n",
        "![image.png](data:image/png;base64,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)\n"
      ],
      "metadata": {
        "id": "x6cNQ1jLybO6"
      }
    },
    {
      "cell_type": "markdown",
      "source": [
        "We'll start with a couple of simple examples, and then show how to use gr.ChatInterface() with real language models from several popular APIs and libraries, including langchain, openai, and Hugging Face.\n",
        "\n",
        "Prerequisites: please make sure you are using the latest version version of Gradio:"
      ],
      "metadata": {
        "id": "CyQVUmcM6igr"
      }
    },
    {
      "cell_type": "markdown",
      "source": [
        "**Step 1 : Intall the required libraries **"
      ],
      "metadata": {
        "id": "6VzR9H-qyfCc"
      }
    },
    {
      "cell_type": "code",
      "source": [
        "! pip install --upgrade gradio"
      ],
      "metadata": {
        "colab": {
          "base_uri": "https://localhost:8080/"
        },
        "id": "wQZ4IgsbBN8z",
        "outputId": "748237c4-6d57-484c-84b6-f38ae6356148"
      },
      "execution_count": null,
      "outputs": [
        {
          "output_type": "stream",
          "name": "stdout",
          "text": [
            "Collecting gradio\n",
            "  Downloading gradio-4.44.0-py3-none-any.whl.metadata (15 kB)\n",
            "Collecting aiofiles<24.0,>=22.0 (from gradio)\n",
            "  Downloading aiofiles-23.2.1-py3-none-any.whl.metadata (9.7 kB)\n",
            "Requirement already satisfied: anyio<5.0,>=3.0 in /usr/local/lib/python3.10/dist-packages (from gradio) (3.7.1)\n",
            "Collecting fastapi<1.0 (from gradio)\n",
            "  Downloading fastapi-0.114.2-py3-none-any.whl.metadata (27 kB)\n",
            "Collecting ffmpy (from gradio)\n",
            "  Downloading ffmpy-0.4.0-py3-none-any.whl.metadata (2.9 kB)\n",
            "Collecting gradio-client==1.3.0 (from gradio)\n",
            "  Downloading gradio_client-1.3.0-py3-none-any.whl.metadata (7.1 kB)\n",
            "Collecting httpx>=0.24.1 (from gradio)\n",
            "  Downloading httpx-0.27.2-py3-none-any.whl.metadata (7.1 kB)\n",
            "Requirement already satisfied: huggingface-hub>=0.19.3 in /usr/local/lib/python3.10/dist-packages (from gradio) (0.24.6)\n",
            "Requirement already satisfied: importlib-resources<7.0,>=1.3 in /usr/local/lib/python3.10/dist-packages (from gradio) (6.4.5)\n",
            "Requirement already satisfied: jinja2<4.0 in /usr/local/lib/python3.10/dist-packages (from gradio) (3.1.4)\n",
            "Requirement already satisfied: markupsafe~=2.0 in /usr/local/lib/python3.10/dist-packages (from gradio) (2.1.5)\n",
            "Requirement already satisfied: matplotlib~=3.0 in /usr/local/lib/python3.10/dist-packages (from gradio) (3.7.1)\n",
            "Requirement already satisfied: numpy<3.0,>=1.0 in /usr/local/lib/python3.10/dist-packages (from gradio) (1.26.4)\n",
            "Collecting orjson~=3.0 (from gradio)\n",
            "  Downloading orjson-3.10.7-cp310-cp310-manylinux_2_17_x86_64.manylinux2014_x86_64.whl.metadata (50 kB)\n",
            "\u001b[2K     \u001b[90m━━━━━━━━━━━━━━━━━━━━━━━━━━━━━━━━━━━━━━━━\u001b[0m \u001b[32m50.4/50.4 kB\u001b[0m \u001b[31m3.6 MB/s\u001b[0m eta \u001b[36m0:00:00\u001b[0m\n",
            "\u001b[?25hRequirement already satisfied: packaging in /usr/local/lib/python3.10/dist-packages (from gradio) (24.1)\n",
            "Requirement already satisfied: pandas<3.0,>=1.0 in /usr/local/lib/python3.10/dist-packages (from gradio) (2.1.4)\n",
            "Requirement already satisfied: pillow<11.0,>=8.0 in /usr/local/lib/python3.10/dist-packages (from gradio) (9.4.0)\n",
            "Requirement already satisfied: pydantic>=2.0 in /usr/local/lib/python3.10/dist-packages (from gradio) (2.9.1)\n",
            "Collecting pydub (from gradio)\n",
            "  Downloading pydub-0.25.1-py2.py3-none-any.whl.metadata (1.4 kB)\n",
            "Collecting python-multipart>=0.0.9 (from gradio)\n",
            "  Downloading python_multipart-0.0.9-py3-none-any.whl.metadata (2.5 kB)\n",
            "Requirement already satisfied: pyyaml<7.0,>=5.0 in /usr/local/lib/python3.10/dist-packages (from gradio) (6.0.2)\n",
            "Collecting ruff>=0.2.2 (from gradio)\n",
            "  Downloading ruff-0.6.5-py3-none-manylinux_2_17_x86_64.manylinux2014_x86_64.whl.metadata (25 kB)\n",
            "Collecting semantic-version~=2.0 (from gradio)\n",
            "  Downloading semantic_version-2.10.0-py2.py3-none-any.whl.metadata (9.7 kB)\n",
            "Collecting tomlkit==0.12.0 (from gradio)\n",
            "  Downloading tomlkit-0.12.0-py3-none-any.whl.metadata (2.7 kB)\n",
            "Requirement already satisfied: typer<1.0,>=0.12 in /usr/local/lib/python3.10/dist-packages (from gradio) (0.12.5)\n",
            "Requirement already satisfied: typing-extensions~=4.0 in /usr/local/lib/python3.10/dist-packages (from gradio) (4.12.2)\n",
            "Requirement already satisfied: urllib3~=2.0 in /usr/local/lib/python3.10/dist-packages (from gradio) (2.0.7)\n",
            "Collecting uvicorn>=0.14.0 (from gradio)\n",
            "  Downloading uvicorn-0.30.6-py3-none-any.whl.metadata (6.6 kB)\n",
            "Requirement already satisfied: fsspec in /usr/local/lib/python3.10/dist-packages (from gradio-client==1.3.0->gradio) (2024.6.1)\n",
            "Collecting websockets<13.0,>=10.0 (from gradio-client==1.3.0->gradio)\n",
            "  Downloading websockets-12.0-cp310-cp310-manylinux_2_5_x86_64.manylinux1_x86_64.manylinux_2_17_x86_64.manylinux2014_x86_64.whl.metadata (6.6 kB)\n",
            "Requirement already satisfied: idna>=2.8 in /usr/local/lib/python3.10/dist-packages (from anyio<5.0,>=3.0->gradio) (3.8)\n",
            "Requirement already satisfied: sniffio>=1.1 in /usr/local/lib/python3.10/dist-packages (from anyio<5.0,>=3.0->gradio) (1.3.1)\n",
            "Requirement already satisfied: exceptiongroup in /usr/local/lib/python3.10/dist-packages (from anyio<5.0,>=3.0->gradio) (1.2.2)\n",
            "Collecting starlette<0.39.0,>=0.37.2 (from fastapi<1.0->gradio)\n",
            "  Downloading starlette-0.38.5-py3-none-any.whl.metadata (6.0 kB)\n",
            "Requirement already satisfied: certifi in /usr/local/lib/python3.10/dist-packages (from httpx>=0.24.1->gradio) (2024.8.30)\n",
            "Collecting httpcore==1.* (from httpx>=0.24.1->gradio)\n",
            "  Downloading httpcore-1.0.5-py3-none-any.whl.metadata (20 kB)\n",
            "Collecting h11<0.15,>=0.13 (from httpcore==1.*->httpx>=0.24.1->gradio)\n",
            "  Downloading h11-0.14.0-py3-none-any.whl.metadata (8.2 kB)\n",
            "Requirement already satisfied: filelock in /usr/local/lib/python3.10/dist-packages (from huggingface-hub>=0.19.3->gradio) (3.16.0)\n",
            "Requirement already satisfied: requests in /usr/local/lib/python3.10/dist-packages (from huggingface-hub>=0.19.3->gradio) (2.32.3)\n",
            "Requirement already satisfied: tqdm>=4.42.1 in /usr/local/lib/python3.10/dist-packages (from huggingface-hub>=0.19.3->gradio) (4.66.5)\n",
            "Requirement already satisfied: contourpy>=1.0.1 in /usr/local/lib/python3.10/dist-packages (from matplotlib~=3.0->gradio) (1.3.0)\n",
            "Requirement already satisfied: cycler>=0.10 in /usr/local/lib/python3.10/dist-packages (from matplotlib~=3.0->gradio) (0.12.1)\n",
            "Requirement already satisfied: fonttools>=4.22.0 in /usr/local/lib/python3.10/dist-packages (from matplotlib~=3.0->gradio) (4.53.1)\n",
            "Requirement already satisfied: kiwisolver>=1.0.1 in /usr/local/lib/python3.10/dist-packages (from matplotlib~=3.0->gradio) (1.4.7)\n",
            "Requirement already satisfied: pyparsing>=2.3.1 in /usr/local/lib/python3.10/dist-packages (from matplotlib~=3.0->gradio) (3.1.4)\n",
            "Requirement already satisfied: python-dateutil>=2.7 in /usr/local/lib/python3.10/dist-packages (from matplotlib~=3.0->gradio) (2.8.2)\n",
            "Requirement already satisfied: pytz>=2020.1 in /usr/local/lib/python3.10/dist-packages (from pandas<3.0,>=1.0->gradio) (2024.2)\n",
            "Requirement already satisfied: tzdata>=2022.1 in /usr/local/lib/python3.10/dist-packages (from pandas<3.0,>=1.0->gradio) (2024.1)\n",
            "Requirement already satisfied: annotated-types>=0.6.0 in /usr/local/lib/python3.10/dist-packages (from pydantic>=2.0->gradio) (0.7.0)\n",
            "Requirement already satisfied: pydantic-core==2.23.3 in /usr/local/lib/python3.10/dist-packages (from pydantic>=2.0->gradio) (2.23.3)\n",
            "Requirement already satisfied: click>=8.0.0 in /usr/local/lib/python3.10/dist-packages (from typer<1.0,>=0.12->gradio) (8.1.7)\n",
            "Requirement already satisfied: shellingham>=1.3.0 in /usr/local/lib/python3.10/dist-packages (from typer<1.0,>=0.12->gradio) (1.5.4)\n",
            "Requirement already satisfied: rich>=10.11.0 in /usr/local/lib/python3.10/dist-packages (from typer<1.0,>=0.12->gradio) (13.8.1)\n",
            "Requirement already satisfied: six>=1.5 in /usr/local/lib/python3.10/dist-packages (from python-dateutil>=2.7->matplotlib~=3.0->gradio) (1.16.0)\n",
            "Requirement already satisfied: markdown-it-py>=2.2.0 in /usr/local/lib/python3.10/dist-packages (from rich>=10.11.0->typer<1.0,>=0.12->gradio) (3.0.0)\n",
            "Requirement already satisfied: pygments<3.0.0,>=2.13.0 in /usr/local/lib/python3.10/dist-packages (from rich>=10.11.0->typer<1.0,>=0.12->gradio) (2.16.1)\n",
            "Requirement already satisfied: charset-normalizer<4,>=2 in /usr/local/lib/python3.10/dist-packages (from requests->huggingface-hub>=0.19.3->gradio) (3.3.2)\n",
            "Requirement already satisfied: mdurl~=0.1 in /usr/local/lib/python3.10/dist-packages (from markdown-it-py>=2.2.0->rich>=10.11.0->typer<1.0,>=0.12->gradio) (0.1.2)\n",
            "Downloading gradio-4.44.0-py3-none-any.whl (18.1 MB)\n",
            "\u001b[2K   \u001b[90m━━━━━━━━━━━━━━━━━━━━━━━━━━━━━━━━━━━━━━━━\u001b[0m \u001b[32m18.1/18.1 MB\u001b[0m \u001b[31m59.6 MB/s\u001b[0m eta \u001b[36m0:00:00\u001b[0m\n",
            "\u001b[?25hDownloading gradio_client-1.3.0-py3-none-any.whl (318 kB)\n",
            "\u001b[2K   \u001b[90m━━━━━━━━━━━━━━━━━━━━━━━━━━━━━━━━━━━━━━━━\u001b[0m \u001b[32m318.7/318.7 kB\u001b[0m \u001b[31m22.2 MB/s\u001b[0m eta \u001b[36m0:00:00\u001b[0m\n",
            "\u001b[?25hDownloading tomlkit-0.12.0-py3-none-any.whl (37 kB)\n",
            "Downloading aiofiles-23.2.1-py3-none-any.whl (15 kB)\n",
            "Downloading fastapi-0.114.2-py3-none-any.whl (94 kB)\n",
            "\u001b[2K   \u001b[90m━━━━━━━━━━━━━━━━━━━━━━━━━━━━━━━━━━━━━━━━\u001b[0m \u001b[32m94.0/94.0 kB\u001b[0m \u001b[31m8.7 MB/s\u001b[0m eta \u001b[36m0:00:00\u001b[0m\n",
            "\u001b[?25hDownloading httpx-0.27.2-py3-none-any.whl (76 kB)\n",
            "\u001b[2K   \u001b[90m━━━━━━━━━━━━━━━━━━━━━━━━━━━━━━━━━━━━━━━━\u001b[0m \u001b[32m76.4/76.4 kB\u001b[0m \u001b[31m6.9 MB/s\u001b[0m eta \u001b[36m0:00:00\u001b[0m\n",
            "\u001b[?25hDownloading httpcore-1.0.5-py3-none-any.whl (77 kB)\n",
            "\u001b[2K   \u001b[90m━━━━━━━━━━━━━━━━━━━━━━━━━━━━━━━━━━━━━━━━\u001b[0m \u001b[32m77.9/77.9 kB\u001b[0m \u001b[31m7.3 MB/s\u001b[0m eta \u001b[36m0:00:00\u001b[0m\n",
            "\u001b[?25hDownloading orjson-3.10.7-cp310-cp310-manylinux_2_17_x86_64.manylinux2014_x86_64.whl (141 kB)\n",
            "\u001b[2K   \u001b[90m━━━━━━━━━━━━━━━━━━━━━━━━━━━━━━━━━━━━━━━━\u001b[0m \u001b[32m141.9/141.9 kB\u001b[0m \u001b[31m12.1 MB/s\u001b[0m eta \u001b[36m0:00:00\u001b[0m\n",
            "\u001b[?25hDownloading python_multipart-0.0.9-py3-none-any.whl (22 kB)\n",
            "Downloading ruff-0.6.5-py3-none-manylinux_2_17_x86_64.manylinux2014_x86_64.whl (10.3 MB)\n",
            "\u001b[2K   \u001b[90m━━━━━━━━━━━━━━━━━━━━━━━━━━━━━━━━━━━━━━━━\u001b[0m \u001b[32m10.3/10.3 MB\u001b[0m \u001b[31m110.0 MB/s\u001b[0m eta \u001b[36m0:00:00\u001b[0m\n",
            "\u001b[?25hDownloading semantic_version-2.10.0-py2.py3-none-any.whl (15 kB)\n",
            "Downloading uvicorn-0.30.6-py3-none-any.whl (62 kB)\n",
            "\u001b[2K   \u001b[90m━━━━━━━━━━━━━━━━━━━━━━━━━━━━━━━━━━━━━━━━\u001b[0m \u001b[32m62.8/62.8 kB\u001b[0m \u001b[31m5.4 MB/s\u001b[0m eta \u001b[36m0:00:00\u001b[0m\n",
            "\u001b[?25hDownloading ffmpy-0.4.0-py3-none-any.whl (5.8 kB)\n",
            "Downloading pydub-0.25.1-py2.py3-none-any.whl (32 kB)\n",
            "Downloading h11-0.14.0-py3-none-any.whl (58 kB)\n",
            "\u001b[2K   \u001b[90m━━━━━━━━━━━━━━━━━━━━━━━━━━━━━━━━━━━━━━━━\u001b[0m \u001b[32m58.3/58.3 kB\u001b[0m \u001b[31m4.8 MB/s\u001b[0m eta \u001b[36m0:00:00\u001b[0m\n",
            "\u001b[?25hDownloading starlette-0.38.5-py3-none-any.whl (71 kB)\n",
            "\u001b[2K   \u001b[90m━━━━━━━━━━━━━━━━━━━━━━━━━━━━━━━━━━━━━━━━\u001b[0m \u001b[32m71.4/71.4 kB\u001b[0m \u001b[31m6.3 MB/s\u001b[0m eta \u001b[36m0:00:00\u001b[0m\n",
            "\u001b[?25hDownloading websockets-12.0-cp310-cp310-manylinux_2_5_x86_64.manylinux1_x86_64.manylinux_2_17_x86_64.manylinux2014_x86_64.whl (130 kB)\n",
            "\u001b[2K   \u001b[90m━━━━━━━━━━━━━━━━━━━━━━━━━━━━━━━━━━━━━━━━\u001b[0m \u001b[32m130.2/130.2 kB\u001b[0m \u001b[31m11.3 MB/s\u001b[0m eta \u001b[36m0:00:00\u001b[0m\n",
            "\u001b[?25hInstalling collected packages: pydub, websockets, tomlkit, semantic-version, ruff, python-multipart, orjson, h11, ffmpy, aiofiles, uvicorn, starlette, httpcore, httpx, fastapi, gradio-client, gradio\n",
            "  Attempting uninstall: tomlkit\n",
            "    Found existing installation: tomlkit 0.13.2\n",
            "    Uninstalling tomlkit-0.13.2:\n",
            "      Successfully uninstalled tomlkit-0.13.2\n",
            "Successfully installed aiofiles-23.2.1 fastapi-0.114.2 ffmpy-0.4.0 gradio-4.44.0 gradio-client-1.3.0 h11-0.14.0 httpcore-1.0.5 httpx-0.27.2 orjson-3.10.7 pydub-0.25.1 python-multipart-0.0.9 ruff-0.6.5 semantic-version-2.10.0 starlette-0.38.5 tomlkit-0.12.0 uvicorn-0.30.6 websockets-12.0\n"
          ]
        }
      ]
    },
    {
      "cell_type": "markdown",
      "source": [
        "**Defining a chat function**\n",
        "\n",
        "When working with gr.ChatInterface(), the first thing you should do is define your chat function. Your chat function should take two arguments: message and then history (the arguments can be named anything, but must be in this order).\n",
        "\n",
        "message: a str representing the user's input. history: a list of list representing the conversations up until that point. Each inner list consists of two str representing a pair: [user input, bot response].\n",
        "Your function should return a single string response, which is the bot's response to the particular user input message. Your function can take into account the history of messages, as well as the current message.\n",
        "\n",
        "Let's take a look at a few examples.\n",
        "\n",
        "**Example: a chatbot that responds yes or no**\n",
        "\n",
        "Let's write a chat function that responds Yes or No randomly.\n",
        "\n",
        "Here's our chat function:"
      ],
      "metadata": {
        "id": "qqRh0pYn6sEB"
      }
    },
    {
      "cell_type": "code",
      "source": [
        "#Example: a chatbot that responds yes or no\n",
        "import random\n",
        "\n",
        "def random_response(message, history):\n",
        "    return random.choice([\"Yes\", \"No\"])"
      ],
      "metadata": {
        "id": "LhdVFnttD3SD"
      },
      "execution_count": null,
      "outputs": []
    },
    {
      "cell_type": "markdown",
      "source": [
        "Now, we can plug this into gr.ChatInterface() and call the .launch() method to create the web interface:"
      ],
      "metadata": {
        "id": "GEs6xdzU66zi"
      }
    },
    {
      "cell_type": "code",
      "source": [
        "import gradio as gr\n",
        "\n",
        "gr.ChatInterface(random_response).launch()"
      ],
      "metadata": {
        "colab": {
          "base_uri": "https://localhost:8080/",
          "height": 626
        },
        "id": "bB9wHaJWEKML",
        "outputId": "e952954b-3562-4c77-be79-a5cc4b9b21b2"
      },
      "execution_count": null,
      "outputs": [
        {
          "output_type": "stream",
          "name": "stdout",
          "text": [
            "Setting queue=True in a Colab notebook requires sharing enabled. Setting `share=True` (you can turn this off by setting `share=False` in `launch()` explicitly).\n",
            "\n",
            "Colab notebook detected. To show errors in colab notebook, set debug=True in launch()\n",
            "Running on public URL: https://ffcc0ae649d7e21eab.gradio.live\n",
            "\n",
            "This share link expires in 72 hours. For free permanent hosting and GPU upgrades, run `gradio deploy` from Terminal to deploy to Spaces (https://huggingface.co/spaces)\n"
          ]
        },
        {
          "output_type": "display_data",
          "data": {
            "text/plain": [
              "<IPython.core.display.HTML object>"
            ],
            "text/html": [
              "<div><iframe src=\"https://ffcc0ae649d7e21eab.gradio.live\" width=\"100%\" height=\"500\" allow=\"autoplay; camera; microphone; clipboard-read; clipboard-write;\" frameborder=\"0\" allowfullscreen></iframe></div>"
            ]
          },
          "metadata": {}
        },
        {
          "output_type": "execute_result",
          "data": {
            "text/plain": []
          },
          "metadata": {},
          "execution_count": 4
        }
      ]
    },
    {
      "cell_type": "markdown",
      "source": [
        "**Another example using the user's input and history**\n",
        "\n",
        "Of course, the previous example was very simplistic, it didn't even take user input or the previous history into account! Here's another simple example showing how to incorporate a user's input as well as the history."
      ],
      "metadata": {
        "id": "b5zGdUv47VfH"
      }
    },
    {
      "cell_type": "code",
      "source": [
        "import random\n",
        "import gradio as gr\n",
        "\n",
        "def alternatingly_agree(message, history):\n",
        "    if len(history) % 2 == 0:\n",
        "        return f\"Yes, I do think that '{message}'\"\n",
        "    else:\n",
        "        return \"I don't think so\"\n",
        "\n",
        "gr.ChatInterface(alternatingly_agree).launch()"
      ],
      "metadata": {
        "colab": {
          "base_uri": "https://localhost:8080/",
          "height": 626
        },
        "id": "9Utcqa2SGhuD",
        "outputId": "6948b044-6dda-42af-9bca-f6582440f98d"
      },
      "execution_count": null,
      "outputs": [
        {
          "output_type": "stream",
          "name": "stdout",
          "text": [
            "Setting queue=True in a Colab notebook requires sharing enabled. Setting `share=True` (you can turn this off by setting `share=False` in `launch()` explicitly).\n",
            "\n",
            "Colab notebook detected. To show errors in colab notebook, set debug=True in launch()\n",
            "Running on public URL: https://5675573d297a95044f.gradio.live\n",
            "\n",
            "This share link expires in 72 hours. For free permanent hosting and GPU upgrades, run `gradio deploy` from Terminal to deploy to Spaces (https://huggingface.co/spaces)\n"
          ]
        },
        {
          "output_type": "display_data",
          "data": {
            "text/plain": [
              "<IPython.core.display.HTML object>"
            ],
            "text/html": [
              "<div><iframe src=\"https://5675573d297a95044f.gradio.live\" width=\"100%\" height=\"500\" allow=\"autoplay; camera; microphone; clipboard-read; clipboard-write;\" frameborder=\"0\" allowfullscreen></iframe></div>"
            ]
          },
          "metadata": {}
        },
        {
          "output_type": "execute_result",
          "data": {
            "text/plain": []
          },
          "metadata": {},
          "execution_count": 6
        }
      ]
    },
    {
      "cell_type": "markdown",
      "source": [
        "**Streaming chatbots**\n",
        "\n",
        "In your chat function, you can use yield to generate a sequence of partial responses, each replacing the previous ones. This way, you'll end up with a streaming chatbot. It's that simple!"
      ],
      "metadata": {
        "id": "-4dRDS9Y7gs0"
      }
    },
    {
      "cell_type": "code",
      "source": [
        "import time\n",
        "import gradio as gr\n",
        "\n",
        "def slow_echo(message, history):\n",
        "    for i in range(len(message)):\n",
        "        time.sleep(0.3)\n",
        "        yield \"You typed: \" + message[: i+1]\n",
        "\n",
        "gr.ChatInterface(slow_echo).launch()"
      ],
      "metadata": {
        "colab": {
          "base_uri": "https://localhost:8080/",
          "height": 626
        },
        "id": "yuim1rwSHD7C",
        "outputId": "637baa6c-42b4-49b0-bbaf-d2d321912c3b"
      },
      "execution_count": null,
      "outputs": [
        {
          "output_type": "stream",
          "name": "stdout",
          "text": [
            "Setting queue=True in a Colab notebook requires sharing enabled. Setting `share=True` (you can turn this off by setting `share=False` in `launch()` explicitly).\n",
            "\n",
            "Colab notebook detected. To show errors in colab notebook, set debug=True in launch()\n",
            "Running on public URL: https://b360a87df27a68af88.gradio.live\n",
            "\n",
            "This share link expires in 72 hours. For free permanent hosting and GPU upgrades, run `gradio deploy` from Terminal to deploy to Spaces (https://huggingface.co/spaces)\n"
          ]
        },
        {
          "output_type": "display_data",
          "data": {
            "text/plain": [
              "<IPython.core.display.HTML object>"
            ],
            "text/html": [
              "<div><iframe src=\"https://b360a87df27a68af88.gradio.live\" width=\"100%\" height=\"500\" allow=\"autoplay; camera; microphone; clipboard-read; clipboard-write;\" frameborder=\"0\" allowfullscreen></iframe></div>"
            ]
          },
          "metadata": {}
        },
        {
          "output_type": "execute_result",
          "data": {
            "text/plain": []
          },
          "metadata": {},
          "execution_count": 7
        }
      ]
    },
    {
      "cell_type": "markdown",
      "source": [
        "**Customizing your chatbot**\n",
        "\n",
        "If you're familiar with Gradio's Interface class, the gr.ChatInterface includes many of the same arguments that you can use to customize the look and feel of your Chatbot. For example, you can:\n",
        "\n",
        "add a title and description above your chatbot using title and description arguments. add a theme or custom css using theme and css arguments respectively. add examples and even enable cache_examples, which make it easier for users to try it out . You can change the text or disable each of the buttons that appear in the chatbot interface: submit_btn, retry_btn, undo_btn, clear_btn.\n",
        "If you want to customize the gr.Chatbot or gr.Textbox that compose the ChatInterface, then you can pass in your own chatbot or textbox as well. Here's an example of how we can use these parameters:"
      ],
      "metadata": {
        "id": "eK3cOjsb7u_t"
      }
    },
    {
      "cell_type": "code",
      "source": [
        "import gradio as gr\n",
        "\n",
        "def yes_man(message, history):\n",
        "    if message.endswith(\"?\"):\n",
        "        return \"Yes\"\n",
        "    else:\n",
        "        return \"Ask me anything!\"\n",
        "\n",
        "gr.ChatInterface(\n",
        "    yes_man,\n",
        "    #chatbot=gr.Chatbot(height=300),\n",
        "    textbox=gr.Textbox(placeholder=\"Ask me a yes or no question\", container=False, scale=7),\n",
        "    chatbot=gr.Chatbot(placeholder=\"<strong>Your Personal Yes-Man</strong><br>Ask Me Anything\"),\n",
        "    title=\"Yes Man\",\n",
        "    description=\"Ask Yes Man any question\",\n",
        "    theme=\"soft\",\n",
        "    examples=[\"Hello\", \"Am I cool?\", \"Are tomatoes vegetables?\"],\n",
        "    cache_examples=True,\n",
        "    retry_btn=None,\n",
        "    undo_btn=\"Delete Previous\",\n",
        "    clear_btn=\"Clear\",\n",
        ").launch()"
      ],
      "metadata": {
        "colab": {
          "base_uri": "https://localhost:8080/",
          "height": 695
        },
        "id": "1filDTBNDHX7",
        "outputId": "54b4229c-03f9-42a5-9978-3c220ae3c5e3"
      },
      "execution_count": null,
      "outputs": [
        {
          "output_type": "stream",
          "name": "stdout",
          "text": [
            "Caching examples at: '/content/gradio_cached_examples/49'\n",
            "Caching example 1/3\n",
            "Caching example 2/3\n",
            "Caching example 3/3\n",
            "Setting queue=True in a Colab notebook requires sharing enabled. Setting `share=True` (you can turn this off by setting `share=False` in `launch()` explicitly).\n",
            "\n",
            "Colab notebook detected. To show errors in colab notebook, set debug=True in launch()\n",
            "Running on public URL: https://e918eef240a95a64bb.gradio.live\n",
            "\n",
            "This share link expires in 72 hours. For free permanent hosting and GPU upgrades, run `gradio deploy` from Terminal to deploy to Spaces (https://huggingface.co/spaces)\n"
          ]
        },
        {
          "output_type": "display_data",
          "data": {
            "text/plain": [
              "<IPython.core.display.HTML object>"
            ],
            "text/html": [
              "<div><iframe src=\"https://e918eef240a95a64bb.gradio.live\" width=\"100%\" height=\"500\" allow=\"autoplay; camera; microphone; clipboard-read; clipboard-write;\" frameborder=\"0\" allowfullscreen></iframe></div>"
            ]
          },
          "metadata": {}
        },
        {
          "output_type": "execute_result",
          "data": {
            "text/plain": []
          },
          "metadata": {},
          "execution_count": 10
        }
      ]
    },
    {
      "cell_type": "markdown",
      "source": [
        "When multimodal=True, the signature of fn changes slightly. The first parameter of your function should accept a dictionary consisting of the submitted text and uploaded files that looks like this: {\"text\": \"user input\", \"file\": [\"file_path1\", \"file_path2\", ...]}. Similarly, any examples you provide should be in a dictionary of this form. Your function should still return a single str message.\n",
        "\n",
        "**Additional Inputs**\n",
        "\n",
        "You may want to add additional parameters to your chatbot and expose them to your users through the Chatbot UI. For example, suppose you want to add a textbox for a system prompt, or a slider that sets the number of tokens in the chatbot's response. The ChatInterface class supports an additional_inputs parameter which can be used to add additional input components.\n",
        "\n",
        "The additional_inputs parameters accepts a component or a list of components. You can pass the component instances directly, or use their string shortcuts (e.g. \"textbox\" instead of gr.Textbox()). If you pass in component instances, and they have not already been rendered, then the components will appear underneath the chatbot (and any examples) within a gr.Accordion(). You can set the label of this accordion using the additional_inputs_accordion_name parameter.\n",
        "\n",
        "Here's a complete example:"
      ],
      "metadata": {
        "id": "p3o50tUy8UKN"
      }
    },
    {
      "cell_type": "code",
      "source": [
        "import gradio as gr\n",
        "import time\n",
        "\n",
        "def echo(message, history, system_prompt, tokens):\n",
        "    response = f\"System prompt: {system_prompt}\\n Message: {message}.\"\n",
        "    for i in range(min(len(response), int(tokens))):\n",
        "        time.sleep(0.05)\n",
        "        yield response[: i + 1]\n",
        "\n",
        "demo = gr.ChatInterface(\n",
        "    echo,\n",
        "    additional_inputs=[\n",
        "        gr.Textbox(\"You are helpful AI.\", label=\"System Prompt\"),\n",
        "        gr.Slider(10, 100),\n",
        "    ],\n",
        ")\n",
        "\n",
        "demo.launch()\n"
      ],
      "metadata": {
        "colab": {
          "base_uri": "https://localhost:8080/",
          "height": 626
        },
        "id": "CgzHC7Uzd-mN",
        "outputId": "1d675c83-b183-4e11-929f-010b35efea1c"
      },
      "execution_count": null,
      "outputs": [
        {
          "output_type": "stream",
          "name": "stdout",
          "text": [
            "Setting queue=True in a Colab notebook requires sharing enabled. Setting `share=True` (you can turn this off by setting `share=False` in `launch()` explicitly).\n",
            "\n",
            "Colab notebook detected. To show errors in colab notebook, set debug=True in launch()\n",
            "Running on public URL: https://80fbd333727b3281c3.gradio.live\n",
            "\n",
            "This share link expires in 72 hours. For free permanent hosting and GPU upgrades, run `gradio deploy` from Terminal to deploy to Spaces (https://huggingface.co/spaces)\n"
          ]
        },
        {
          "output_type": "display_data",
          "data": {
            "text/plain": [
              "<IPython.core.display.HTML object>"
            ],
            "text/html": [
              "<div><iframe src=\"https://80fbd333727b3281c3.gradio.live\" width=\"100%\" height=\"500\" allow=\"autoplay; camera; microphone; clipboard-read; clipboard-write;\" frameborder=\"0\" allowfullscreen></iframe></div>"
            ]
          },
          "metadata": {}
        },
        {
          "output_type": "execute_result",
          "data": {
            "text/plain": []
          },
          "metadata": {},
          "execution_count": 5
        }
      ]
    },
    {
      "cell_type": "markdown",
      "source": [
        "**Example using a local, open-source LLM with Hugging Face**\n",
        "\n",
        "Of course, in many cases you want to run a chatbot locally. Here's the equivalent example using Together's RedePajama model, from Hugging Face (this requires you to have a GPU with CUDA)."
      ],
      "metadata": {
        "id": "tP6YBuwB9Ksc"
      }
    },
    {
      "cell_type": "code",
      "source": [
        "import gradio as gr\n",
        "import torch\n",
        "from transformers import AutoModelForCausalLM, AutoTokenizer, StoppingCriteria, StoppingCriteriaList, TextIteratorStreamer\n",
        "from threading import Thread\n",
        "\n",
        "tokenizer = AutoTokenizer.from_pretrained(\"togethercomputer/RedPajama-INCITE-Chat-3B-v1\")\n",
        "model = AutoModelForCausalLM.from_pretrained(\"togethercomputer/RedPajama-INCITE-Chat-3B-v1\", torch_dtype=torch.float16)\n",
        "model = model.to('cuda:0')\n",
        "\n",
        "class StopOnTokens(StoppingCriteria):\n",
        "    def __call__(self, input_ids: torch.LongTensor, scores: torch.FloatTensor, **kwargs) -> bool:\n",
        "        stop_ids = [29, 0]\n",
        "        for stop_id in stop_ids:\n",
        "            if input_ids[0][-1] == stop_id:\n",
        "                return True\n",
        "        return False\n",
        "\n",
        "def predict(message, history):\n",
        "    history_transformer_format = history + [[message, \"\"]]\n",
        "    stop = StopOnTokens()\n",
        "\n",
        "    messages = \"\".join([\"\".join([\"\\n<human>:\"+item[0], \"\\n<bot>:\"+item[1]])\n",
        "                for item in history_transformer_format])\n",
        "\n",
        "    model_inputs = tokenizer([messages], return_tensors=\"pt\").to(\"cuda\")\n",
        "    streamer = TextIteratorStreamer(tokenizer, timeout=10., skip_prompt=True, skip_special_tokens=True)\n",
        "    generate_kwargs = dict(\n",
        "        model_inputs,\n",
        "        streamer=streamer,\n",
        "        max_new_tokens=1024,\n",
        "        do_sample=True,\n",
        "        top_p=0.95,\n",
        "        top_k=1000,\n",
        "        temperature=1.0,\n",
        "        num_beams=1,\n",
        "        stopping_criteria=StoppingCriteriaList([stop])\n",
        "        )\n",
        "    t = Thread(target=model.generate, kwargs=generate_kwargs)\n",
        "    t.start()\n",
        "\n",
        "    partial_message = \"\"\n",
        "    for new_token in streamer:\n",
        "        if new_token != '<':\n",
        "            partial_message += new_token\n",
        "            yield partial_message\n",
        "\n",
        "gr.ChatInterface(predict).launch()"
      ],
      "metadata": {
        "colab": {
          "base_uri": "https://localhost:8080/",
          "height": 942,
          "referenced_widgets": [
            "b3c96aad71ac4ae9ba0729a3d6efd1f5",
            "450b532bf29d4bdfb8dfe1eae71b02bc",
            "db08068b27a6409585d4eb6da9c8632c",
            "cc014207f59846d48efa9bc6ca385ef4",
            "513dd75441a24c3da526b5033bfe6903",
            "12483cd4b7e147cda4fc6a6964c8084a",
            "383d2f25e5e4426e8c6d6db4f2725759",
            "8c5d6af4848346afb4194dc12ae8135a",
            "1fc9907fa8644802a69998ad1b6a74d6",
            "cf8dd8298dbe401dace2205f927016ea",
            "133fa236e4c34c79918cc346ee1b957f",
            "2d4d746781244aa8ab8394c4e85c15fb",
            "a85db96bb25a4b849256cdf2e7c911a0",
            "d19b553298b74dbbb493ed121e5018d3",
            "204202af8b3d474692ec73965197f29c",
            "bb04622f1eaf4a4b933091fbbb6e734f",
            "13c8fcc3c26b467c953cf7875f388080",
            "c5cfe10fad194390907112f98ade5a6f",
            "96c05b79fc514e7eaea7dd803dbdfbe5",
            "9b3cbf1305db47c2b9030dddb467c1a3",
            "6a65c941ecd64e1ba61e15c09434c8cd",
            "d52d6309162c4121b7cc9967856247ee",
            "46c451e9393c41e5b48a158a852ad22a",
            "a4a1d347ce454b9d912d499a5f14ec6e",
            "e94719780630490eb514c0d09a59887a",
            "fe55fc70a11f4d739b975641be2b36ad",
            "113c3fc1e6174910b2f3921560c382e4",
            "f0b20555ef03491990269a9a11d8f371",
            "71e0ded31ea147afa1853a43969b5713",
            "3b8efa83ba344b3ba9bbada2f6eadb15",
            "49383997af6f4d89b0d0c1a5675896eb",
            "2ef21308e4604e7699d573c6d34d13c6",
            "bec4d2fbbcd74aad8eed62c1f0288a9c",
            "9c977c6c638f476e8ca7f81811148f75",
            "8dd622614d7c4c158483c4b9c0c1d17e",
            "d553d60f91254a48a17892848d5e9779",
            "d6353836ea674b32ac5bad215cf6a8c2",
            "6e22d02063dc4d40b020656caea3d90f",
            "fc6c16f5dd2645ea806748e99b1369e3",
            "0a0ca66999a14de09bd16024b16e5748",
            "ee6512b38bae45eab3637364753eb98f",
            "04307c3df0b74dfb8e171aee8665b93e",
            "cce3cc15ed424d73a6d09f8c93d34176",
            "88aa27ec44e142c8820d8e85f8cebf7c",
            "a13c16fdb1c146d4b82a6ca9758d90da",
            "5454bc936ebc4d40968ae54f29b1d798",
            "f6c88a35a37f4d3f818e22f9fb8ba94b",
            "251a22af28f8444dafa2e78bc4526606",
            "f7fef74aa53d4908a435a6b26d1e4b25",
            "8750b7cafcbb4418aa142b2c91e85a39",
            "41970ba2065b449eaf3d10cff4259319",
            "0ce49c1ab2184d8fb89956377bd8fbe8",
            "76cb3a4bbe114b91b625876f2bd4982f",
            "f2ad86a40b2d4868ba4cc750ddf83855",
            "37f3d86368814fc8a8b85ffa55410871",
            "483bb8c1b64c4c69ae35541804bbef42",
            "576d2ca8b0504e7ca9aae97971228435",
            "234efa8858e74deeb8435aaf08ef2d3e",
            "ad1c64d3b5ef41bcbb62c4da90ad5fd4",
            "e8ba5519145e46a29b46c2a63573ad36",
            "d6bad630647c425fb76851114aaa65b9",
            "0405b241947747c08e2be55906178ea9",
            "572f4e261225481f88dad1ff9ee989fb",
            "4e9b7af33e7649968ff2c2b82384e2b2",
            "7de770d876344567a0d8982403b99558",
            "8ca65fa7d8f84346a2582cf660a3e4b1"
          ]
        },
        "id": "dDRXMoMs1NE4",
        "outputId": "49f1f0e6-1857-44d3-9a45-d69754469c48"
      },
      "execution_count": null,
      "outputs": [
        {
          "output_type": "stream",
          "name": "stderr",
          "text": [
            "/usr/local/lib/python3.10/dist-packages/huggingface_hub/utils/_token.py:89: UserWarning: \n",
            "The secret `HF_TOKEN` does not exist in your Colab secrets.\n",
            "To authenticate with the Hugging Face Hub, create a token in your settings tab (https://huggingface.co/settings/tokens), set it as secret in your Google Colab and restart your session.\n",
            "You will be able to reuse this secret in all of your notebooks.\n",
            "Please note that authentication is recommended but still optional to access public models or datasets.\n",
            "  warnings.warn(\n"
          ]
        },
        {
          "output_type": "display_data",
          "data": {
            "text/plain": [
              "tokenizer_config.json:   0%|          | 0.00/237 [00:00<?, ?B/s]"
            ],
            "application/vnd.jupyter.widget-view+json": {
              "version_major": 2,
              "version_minor": 0,
              "model_id": "b3c96aad71ac4ae9ba0729a3d6efd1f5"
            }
          },
          "metadata": {}
        },
        {
          "output_type": "display_data",
          "data": {
            "text/plain": [
              "tokenizer.json:   0%|          | 0.00/2.11M [00:00<?, ?B/s]"
            ],
            "application/vnd.jupyter.widget-view+json": {
              "version_major": 2,
              "version_minor": 0,
              "model_id": "2d4d746781244aa8ab8394c4e85c15fb"
            }
          },
          "metadata": {}
        },
        {
          "output_type": "display_data",
          "data": {
            "text/plain": [
              "special_tokens_map.json:   0%|          | 0.00/99.0 [00:00<?, ?B/s]"
            ],
            "application/vnd.jupyter.widget-view+json": {
              "version_major": 2,
              "version_minor": 0,
              "model_id": "46c451e9393c41e5b48a158a852ad22a"
            }
          },
          "metadata": {}
        },
        {
          "output_type": "display_data",
          "data": {
            "text/plain": [
              "config.json:   0%|          | 0.00/630 [00:00<?, ?B/s]"
            ],
            "application/vnd.jupyter.widget-view+json": {
              "version_major": 2,
              "version_minor": 0,
              "model_id": "9c977c6c638f476e8ca7f81811148f75"
            }
          },
          "metadata": {}
        },
        {
          "output_type": "display_data",
          "data": {
            "text/plain": [
              "pytorch_model.bin:   0%|          | 0.00/5.69G [00:00<?, ?B/s]"
            ],
            "application/vnd.jupyter.widget-view+json": {
              "version_major": 2,
              "version_minor": 0,
              "model_id": "a13c16fdb1c146d4b82a6ca9758d90da"
            }
          },
          "metadata": {}
        },
        {
          "output_type": "display_data",
          "data": {
            "text/plain": [
              "generation_config.json:   0%|          | 0.00/111 [00:00<?, ?B/s]"
            ],
            "application/vnd.jupyter.widget-view+json": {
              "version_major": 2,
              "version_minor": 0,
              "model_id": "483bb8c1b64c4c69ae35541804bbef42"
            }
          },
          "metadata": {}
        },
        {
          "output_type": "stream",
          "name": "stdout",
          "text": [
            "Setting queue=True in a Colab notebook requires sharing enabled. Setting `share=True` (you can turn this off by setting `share=False` in `launch()` explicitly).\n",
            "\n",
            "Colab notebook detected. To show errors in colab notebook, set debug=True in launch()\n",
            "Running on public URL: https://d341e00cc2d3da5dd8.gradio.live\n",
            "\n",
            "This share link expires in 72 hours. For free permanent hosting and GPU upgrades, run `gradio deploy` from Terminal to deploy to Spaces (https://huggingface.co/spaces)\n"
          ]
        },
        {
          "output_type": "display_data",
          "data": {
            "text/plain": [
              "<IPython.core.display.HTML object>"
            ],
            "text/html": [
              "<div><iframe src=\"https://d341e00cc2d3da5dd8.gradio.live\" width=\"100%\" height=\"500\" allow=\"autoplay; camera; microphone; clipboard-read; clipboard-write;\" frameborder=\"0\" allowfullscreen></iframe></div>"
            ]
          },
          "metadata": {}
        },
        {
          "output_type": "execute_result",
          "data": {
            "text/plain": []
          },
          "metadata": {},
          "execution_count": 3
        }
      ]
    }
  ]
}